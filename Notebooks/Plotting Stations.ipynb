{
 "cells": [
  {
   "cell_type": "code",
   "execution_count": null,
   "metadata": {},
   "outputs": [],
   "source": [
    "import pandas as pd\n",
    "import numpy as np\n",
    "import geopandas as gpd\n",
    "import altair as alt"
   ]
  },
  {
   "cell_type": "code",
   "execution_count": null,
   "metadata": {},
   "outputs": [],
   "source": [
    "india = gpd.read_file('https://github.com/fazilkhan/storytellingWithData/blob/main/INDIASHAPEFILE.zip?raw=true')"
   ]
  },
  {
   "cell_type": "code",
   "execution_count": null,
   "metadata": {},
   "outputs": [],
   "source": [
    "PunjabHaryana = india[(india.nam == \"PUNJAB\") | (india.nam == \"HARYANA\")]"
   ]
  },
  {
   "cell_type": "code",
   "execution_count": null,
   "metadata": {},
   "outputs": [],
   "source": [
    "PunjabHaryana = PunjabHaryana.rename(columns={\n",
    "    \"coc\": \"COUNTRY\",\n",
    "    \"nam\": \"STATE\",\n",
    "    \"laa\": \"DISTRICT\"\n",
    "})"
   ]
  },
  {
   "cell_type": "code",
   "execution_count": null,
   "metadata": {},
   "outputs": [],
   "source": [
    "PunjabHaryana.head()"
   ]
  },
  {
   "cell_type": "markdown",
   "metadata": {},
   "source": [
    "CSVs used for concatenation here were exported from clean excel files for each year. This was done in a separate notebook."
   ]
  },
  {
   "cell_type": "code",
   "execution_count": null,
   "metadata": {},
   "outputs": [],
   "source": [
    "csv_file_list = [\"/Users/khanfazil/Desktop/master's_project/GW_Levels_Station_Punjab/stationsPunjab.csv\",\n",
    "                \"/Users/khanfazil/Desktop/master's_project/GW_Levels_Station_Haryana/stationsHaryana.csv\"]\n",
    "\n",
    "list_of_dataframes = []\n",
    "for filename in csv_file_list:\n",
    "    list_of_dataframes.append(pd.read_csv(filename))\n",
    "\n",
    "df = pd.concat(list_of_dataframes)"
   ]
  },
  {
   "cell_type": "code",
   "execution_count": null,
   "metadata": {},
   "outputs": [],
   "source": [
    "df.head()"
   ]
  },
  {
   "cell_type": "markdown",
   "metadata": {},
   "source": [
    "Removing null values"
   ]
  },
  {
   "cell_type": "code",
   "execution_count": null,
   "metadata": {},
   "outputs": [],
   "source": [
    "df['MAY (Level m)'] = df['MAY (Level m)'] * 3.281\n",
    "df = df.rename(columns={'MAY (Level m)': 'MAY (Level ft)'})"
   ]
  },
  {
   "cell_type": "code",
   "execution_count": null,
   "metadata": {},
   "outputs": [],
   "source": [
    "dfstations18 = df[(df.YEAR == 2018) & (~df[\"MAY (Level ft)\"].isna())]"
   ]
  },
  {
   "cell_type": "code",
   "execution_count": null,
   "metadata": {},
   "outputs": [],
   "source": [
    "dfstations18.to_csv(\"PunjabHaryanaStationsMay18.csv\", index=False)"
   ]
  },
  {
   "cell_type": "code",
   "execution_count": null,
   "metadata": {},
   "outputs": [],
   "source": [
    "df.to_csv(\"PunjabHaryanaStations.csv\", index=False)"
   ]
  },
  {
   "cell_type": "code",
   "execution_count": null,
   "metadata": {},
   "outputs": [],
   "source": [
    "dfGeo = gpd.GeoDataFrame(df, geometry=gpd.points_from_xy(df.LONGITUDE, df.LATITUDE))"
   ]
  },
  {
   "cell_type": "code",
   "execution_count": null,
   "metadata": {},
   "outputs": [],
   "source": [
    "dfGeo18 = dfGeo[dfGeo.YEAR == 2018]"
   ]
  },
  {
   "cell_type": "code",
   "execution_count": null,
   "metadata": {},
   "outputs": [],
   "source": [
    "alt.data_transformers.disable_max_rows()"
   ]
  },
  {
   "cell_type": "code",
   "execution_count": null,
   "metadata": {
    "scrolled": false
   },
   "outputs": [],
   "source": [
    "PunjabHaryanaMap = alt.Chart(PunjabHaryana).mark_geoshape(\n",
    "    fill='whitesmoke',\n",
    "    stroke='gray',\n",
    "    strokeWidth=0.5\n",
    ").encode(\n",
    "    tooltip=['STATE','DISTRICT']\n",
    ").properties(\n",
    "    width=500,\n",
    "    height=500,\n",
    "    title='Punjab and Haryana Station-wise GW Levels, 2018'\n",
    ")\n",
    "\n",
    "map18 = alt.Chart(dfGeo18).mark_geoshape(\n",
    "    size=5\n",
    ").encode(\n",
    "    color=alt.Color('MAY (Level ft):Q', title='MAY (Level m)', scale=alt.Scale(scheme='inferno', domain=[250,0])),\n",
    "    tooltip=['MAY (Level ft):Q','STATE','DISTRICT','STATION', 'YEAR'],\n",
    ").properties(\n",
    "    title='Station-wise Groudnwater Depth 2018',\n",
    "    projection={'type': 'mercator', 'pointRadius':3.5}\n",
    ")\n",
    "\n",
    "PunjabHaryanaMap + map18"
   ]
  },
  {
   "cell_type": "code",
   "execution_count": null,
   "metadata": {},
   "outputs": [],
   "source": [
    "(PunjabHaryanaMap + map18).save('PunjHarStations18.html')"
   ]
  },
  {
   "cell_type": "code",
   "execution_count": null,
   "metadata": {},
   "outputs": [],
   "source": [
    "# map18 = alt.Chart(dfGeo).mark_geoshape().encode(\n",
    "#     color=alt.Color('MAY (Level m):Q', title='MAY (Level m)', scale=alt.Scale(scheme='inferno', domain=[55,0])),\n",
    "#     tooltip=['MAY (Level m):Q','STATE','DISTRICT','STATION', 'YEAR'],\n",
    "# ).properties(\n",
    "#     title='Station-wise Groudnwater Depth 2018, Punjab and Haryana',\n",
    "#     width=500,\n",
    "#     height=500\n",
    "# ).configure_view(\n",
    "#     strokeWidth=0\n",
    "# )\n",
    "\n",
    "# map18"
   ]
  },
  {
   "cell_type": "code",
   "execution_count": null,
   "metadata": {},
   "outputs": [],
   "source": []
  },
  {
   "cell_type": "code",
   "execution_count": null,
   "metadata": {},
   "outputs": [],
   "source": []
  },
  {
   "cell_type": "code",
   "execution_count": null,
   "metadata": {},
   "outputs": [],
   "source": []
  }
 ],
 "metadata": {
  "kernelspec": {
   "display_name": "Python 3",
   "language": "python",
   "name": "python3"
  },
  "language_info": {
   "codemirror_mode": {
    "name": "ipython",
    "version": 3
   },
   "file_extension": ".py",
   "mimetype": "text/x-python",
   "name": "python",
   "nbconvert_exporter": "python",
   "pygments_lexer": "ipython3",
   "version": "3.7.1"
  }
 },
 "nbformat": 4,
 "nbformat_minor": 4
}
