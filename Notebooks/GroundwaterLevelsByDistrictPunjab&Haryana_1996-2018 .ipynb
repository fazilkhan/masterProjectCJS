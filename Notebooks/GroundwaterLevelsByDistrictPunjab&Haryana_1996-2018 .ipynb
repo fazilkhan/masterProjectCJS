{
 "cells": [
  {
   "cell_type": "markdown",
   "metadata": {},
   "source": [
    "## Importing Pandas and other libraries. Setting Column widths."
   ]
  },
  {
   "cell_type": "code",
   "execution_count": null,
   "metadata": {},
   "outputs": [],
   "source": [
    "import pandas as pd\n",
    "import numpy as np\n",
    "import xlrd\n",
    "\n",
    "pd.set_option('display.max_colwidth', 200)\n",
    "pd.set_option('display.max_columns', 100)"
   ]
  },
  {
   "cell_type": "markdown",
   "metadata": {},
   "source": [
    "Importing Annual Groundwater data (excel files) for both the states. Cleaning it (changing column names, adding a column for year, and dropping top two rows which were just random headers). Exporting a CSV for each year."
   ]
  },
  {
   "cell_type": "markdown",
   "metadata": {},
   "source": [
    "# 1996"
   ]
  },
  {
   "cell_type": "code",
   "execution_count": null,
   "metadata": {},
   "outputs": [],
   "source": [
    "df = pd.read_excel(\"/Users/khanfazil/Desktop/master's_project/GW_Levels_Districts/Jan-Dec_1996.xls\")\n",
    "df = df.replace(\"-\", \"\")\n",
    "df = df.rename(columns={\n",
    "    \"DISTRICTWISE Ground water Level (in m.) Report (<ALL AGENCIES> - <199601> to <199612>)\": \"STATE\",\n",
    "    \"Unnamed: 1\": \"DISTRICT\",\n",
    "    \"Unnamed: 2\": \"Jan\",\n",
    "    \"Unnamed: 3\": \"Feb\",\n",
    "    \"Unnamed: 4\": \"Mar\",\n",
    "    \"Unnamed: 5\": \"Apr\",\n",
    "    \"Unnamed: 6\": \"May\",\n",
    "    \"Unnamed: 7\": \"Jun\",\n",
    "    \"Unnamed: 8\": \"Jul\",\n",
    "    \"Unnamed: 9\": \"Aug\",\n",
    "    \"Unnamed: 10\": \"Sep\",\n",
    "    \"Unnamed: 11\": \"Oct\",\n",
    "    \"Unnamed: 12\": \"Nov\",\n",
    "    \"Unnamed: 13\": \"Dec\",\n",
    "})\n",
    "df = df.drop([0,1])\n",
    "df['YEAR'] = 1996\n",
    "df.to_csv(\"GWDistrict-96.csv\", index=False)"
   ]
  },
  {
   "cell_type": "markdown",
   "metadata": {},
   "source": [
    "# 1997"
   ]
  },
  {
   "cell_type": "code",
   "execution_count": null,
   "metadata": {},
   "outputs": [],
   "source": [
    "df = pd.read_excel(\"/Users/khanfazil/Desktop/master's_project/GW_Levels_Districts/Jan-Dec_1997.xls\")\n",
    "df = df.replace(\"-\", \"\")\n",
    "df = df.rename(columns={\n",
    "    \"DISTRICTWISE Ground water Level (in m.) Report (<ALL AGENCIES> - <199701> to <199712>)\": \"STATE\",\n",
    "    \"Unnamed: 1\": \"DISTRICT\",\n",
    "    \"Unnamed: 2\": \"Jan\",\n",
    "    \"Unnamed: 3\": \"Feb\",\n",
    "    \"Unnamed: 4\": \"Mar\",\n",
    "    \"Unnamed: 5\": \"Apr\",\n",
    "    \"Unnamed: 6\": \"May\",\n",
    "    \"Unnamed: 7\": \"Jun\",\n",
    "    \"Unnamed: 8\": \"Jul\",\n",
    "    \"Unnamed: 9\": \"Aug\",\n",
    "    \"Unnamed: 10\": \"Sep\",\n",
    "    \"Unnamed: 11\": \"Oct\",\n",
    "    \"Unnamed: 12\": \"Nov\",\n",
    "    \"Unnamed: 13\": \"Dec\",\n",
    "})\n",
    "df = df.drop([0,1])\n",
    "df['YEAR'] = 1997\n",
    "df.to_csv(\"GWDistrict-97.csv\", index=False)"
   ]
  },
  {
   "cell_type": "markdown",
   "metadata": {},
   "source": [
    "# 1998"
   ]
  },
  {
   "cell_type": "code",
   "execution_count": null,
   "metadata": {},
   "outputs": [],
   "source": [
    "df = pd.read_excel(\"/Users/khanfazil/Desktop/master's_project/GW_Levels_Districts/Jan-Dec_1998.xls\")\n",
    "df = df.replace(\"-\", \"\")\n",
    "df = df.rename(columns={\n",
    "    \"DISTRICTWISE Ground water Level (in m.) Report (<ALL AGENCIES> - <199801> to <199812>)\": \"STATE\",\n",
    "    \"Unnamed: 1\": \"DISTRICT\",\n",
    "    \"Unnamed: 2\": \"Jan\",\n",
    "    \"Unnamed: 3\": \"Feb\",\n",
    "    \"Unnamed: 4\": \"Mar\",\n",
    "    \"Unnamed: 5\": \"Apr\",\n",
    "    \"Unnamed: 6\": \"May\",\n",
    "    \"Unnamed: 7\": \"Jun\",\n",
    "    \"Unnamed: 8\": \"Jul\",\n",
    "    \"Unnamed: 9\": \"Aug\",\n",
    "    \"Unnamed: 10\": \"Sep\",\n",
    "    \"Unnamed: 11\": \"Oct\",\n",
    "    \"Unnamed: 12\": \"Nov\",\n",
    "    \"Unnamed: 13\": \"Dec\",\n",
    "})\n",
    "df = df.drop([0,1])\n",
    "df['YEAR'] = 1998\n",
    "df.to_csv(\"GWDistrict-98.csv\", index=False)"
   ]
  },
  {
   "cell_type": "markdown",
   "metadata": {},
   "source": [
    "# 1999"
   ]
  },
  {
   "cell_type": "code",
   "execution_count": null,
   "metadata": {},
   "outputs": [],
   "source": [
    "df = pd.read_excel(\"/Users/khanfazil/Desktop/master's_project/GW_Levels_Districts/Jan-Dec_1999.xls\")\n",
    "df = df.replace(\"-\", \"\")\n",
    "df = df.rename(columns={\n",
    "    \"DISTRICTWISE Ground water Level (in m.) Report (<ALL AGENCIES> - <199901> to <199912>)\": \"STATE\",\n",
    "    \"Unnamed: 1\": \"DISTRICT\",\n",
    "    \"Unnamed: 2\": \"Jan\",\n",
    "    \"Unnamed: 3\": \"Feb\",\n",
    "    \"Unnamed: 4\": \"Mar\",\n",
    "    \"Unnamed: 5\": \"Apr\",\n",
    "    \"Unnamed: 6\": \"May\",\n",
    "    \"Unnamed: 7\": \"Jun\",\n",
    "    \"Unnamed: 8\": \"Jul\",\n",
    "    \"Unnamed: 9\": \"Aug\",\n",
    "    \"Unnamed: 10\": \"Sep\",\n",
    "    \"Unnamed: 11\": \"Oct\",\n",
    "    \"Unnamed: 12\": \"Nov\",\n",
    "    \"Unnamed: 13\": \"Dec\",\n",
    "})\n",
    "df = df.drop([0,1])\n",
    "df['YEAR'] = 1999\n",
    "df.to_csv(\"GWDistrict-99.csv\", index=False)"
   ]
  },
  {
   "cell_type": "markdown",
   "metadata": {},
   "source": [
    "# 2000"
   ]
  },
  {
   "cell_type": "code",
   "execution_count": null,
   "metadata": {},
   "outputs": [],
   "source": [
    "df = pd.read_excel(\"/Users/khanfazil/Desktop/master's_project/GW_Levels_Districts/Jan-Dec_2000.xls\")\n",
    "df = df.replace(\"-\", \"\")\n",
    "df = df.rename(columns={\n",
    "    \"DISTRICTWISE Ground water Level (in m.) Report (<ALL AGENCIES> - <200001> to <200012>)\": \"STATE\",\n",
    "    \"Unnamed: 1\": \"DISTRICT\",\n",
    "    \"Unnamed: 2\": \"Jan\",\n",
    "    \"Unnamed: 3\": \"Feb\",\n",
    "    \"Unnamed: 4\": \"Mar\",\n",
    "    \"Unnamed: 5\": \"Apr\",\n",
    "    \"Unnamed: 6\": \"May\",\n",
    "    \"Unnamed: 7\": \"Jun\",\n",
    "    \"Unnamed: 8\": \"Jul\",\n",
    "    \"Unnamed: 9\": \"Aug\",\n",
    "    \"Unnamed: 10\": \"Sep\",\n",
    "    \"Unnamed: 11\": \"Oct\",\n",
    "    \"Unnamed: 12\": \"Nov\",\n",
    "    \"Unnamed: 13\": \"Dec\",\n",
    "})\n",
    "df = df.drop([0,1])\n",
    "df['YEAR'] = 2000\n",
    "df.to_csv(\"GWDistrict-00.csv\", index=False)"
   ]
  },
  {
   "cell_type": "markdown",
   "metadata": {},
   "source": [
    "# 2001"
   ]
  },
  {
   "cell_type": "code",
   "execution_count": null,
   "metadata": {},
   "outputs": [],
   "source": [
    "df = pd.read_excel(\"/Users/khanfazil/Desktop/master's_project/GW_Levels_Districts/Jan-Dec_2001.xls\")\n",
    "df = df.replace(\"-\", \"\")\n",
    "df = df.rename(columns={\n",
    "    \"DISTRICTWISE Ground water Level (in m.) Report (<ALL AGENCIES> - <200101> to <200112>)\": \"STATE\",\n",
    "    \"Unnamed: 1\": \"DISTRICT\",\n",
    "    \"Unnamed: 2\": \"Jan\",\n",
    "    \"Unnamed: 3\": \"Feb\",\n",
    "    \"Unnamed: 4\": \"Mar\",\n",
    "    \"Unnamed: 5\": \"Apr\",\n",
    "    \"Unnamed: 6\": \"May\",\n",
    "    \"Unnamed: 7\": \"Jun\",\n",
    "    \"Unnamed: 8\": \"Jul\",\n",
    "    \"Unnamed: 9\": \"Aug\",\n",
    "    \"Unnamed: 10\": \"Sep\",\n",
    "    \"Unnamed: 11\": \"Oct\",\n",
    "    \"Unnamed: 12\": \"Nov\",\n",
    "    \"Unnamed: 13\": \"Dec\",\n",
    "})\n",
    "df = df.drop([0,1])\n",
    "df['YEAR'] = 2001\n",
    "df.to_csv(\"GWDistrict-01.csv\", index=False)"
   ]
  },
  {
   "cell_type": "markdown",
   "metadata": {},
   "source": [
    "# 2002"
   ]
  },
  {
   "cell_type": "code",
   "execution_count": null,
   "metadata": {},
   "outputs": [],
   "source": [
    "df = pd.read_excel(\"/Users/khanfazil/Desktop/master's_project/GW_Levels_Districts/Jan-Dec_2002.xls\")\n",
    "df = df.replace(\"-\", \"\")\n",
    "df = df.rename(columns={\n",
    "    \"DISTRICTWISE Ground water Level (in m.) Report (<ALL AGENCIES> - <200201> to <200212>)\": \"STATE\",\n",
    "    \"Unnamed: 1\": \"DISTRICT\",\n",
    "    \"Unnamed: 2\": \"Jan\",\n",
    "    \"Unnamed: 3\": \"Feb\",\n",
    "    \"Unnamed: 4\": \"Mar\",\n",
    "    \"Unnamed: 5\": \"Apr\",\n",
    "    \"Unnamed: 6\": \"May\",\n",
    "    \"Unnamed: 7\": \"Jun\",\n",
    "    \"Unnamed: 8\": \"Jul\",\n",
    "    \"Unnamed: 9\": \"Aug\",\n",
    "    \"Unnamed: 10\": \"Sep\",\n",
    "    \"Unnamed: 11\": \"Oct\",\n",
    "    \"Unnamed: 12\": \"Nov\",\n",
    "    \"Unnamed: 13\": \"Dec\",\n",
    "})\n",
    "df = df.drop([0,1])\n",
    "df['YEAR'] = 2002\n",
    "df.to_csv(\"GWDistrict-02.csv\", index=False)"
   ]
  },
  {
   "cell_type": "markdown",
   "metadata": {},
   "source": [
    "# 2003"
   ]
  },
  {
   "cell_type": "code",
   "execution_count": null,
   "metadata": {},
   "outputs": [],
   "source": [
    "df = pd.read_excel(\"/Users/khanfazil/Desktop/master's_project/GW_Levels_Districts/Jan-Dec_2003.xls\")\n",
    "df = df.replace(\"-\", \"\")\n",
    "df = df.rename(columns={\n",
    "    \"DISTRICTWISE Ground water Level (in m.) Report (<ALL AGENCIES> - <200301> to <200312>)\": \"STATE\",\n",
    "    \"Unnamed: 1\": \"DISTRICT\",\n",
    "    \"Unnamed: 2\": \"Jan\",\n",
    "    \"Unnamed: 3\": \"Feb\",\n",
    "    \"Unnamed: 4\": \"Mar\",\n",
    "    \"Unnamed: 5\": \"Apr\",\n",
    "    \"Unnamed: 6\": \"May\",\n",
    "    \"Unnamed: 7\": \"Jun\",\n",
    "    \"Unnamed: 8\": \"Jul\",\n",
    "    \"Unnamed: 9\": \"Aug\",\n",
    "    \"Unnamed: 10\": \"Sep\",\n",
    "    \"Unnamed: 11\": \"Oct\",\n",
    "    \"Unnamed: 12\": \"Nov\",\n",
    "    \"Unnamed: 13\": \"Dec\",\n",
    "})\n",
    "df = df.drop([0,1])\n",
    "df['YEAR'] = 2003\n",
    "df.to_csv(\"GWDistrict-03.csv\", index=False)"
   ]
  },
  {
   "cell_type": "markdown",
   "metadata": {},
   "source": [
    "# 2004"
   ]
  },
  {
   "cell_type": "code",
   "execution_count": null,
   "metadata": {},
   "outputs": [],
   "source": [
    "df = pd.read_excel(\"/Users/khanfazil/Desktop/master's_project/GW_Levels_Districts/Jan-Dec_2004.xls\")\n",
    "df = df.replace(\"-\", \"\")\n",
    "df = df.rename(columns={\n",
    "    \"DISTRICTWISE Ground water Level (in m.) Report (<ALL AGENCIES> - <200401> to <200412>)\": \"STATE\",\n",
    "    \"Unnamed: 1\": \"DISTRICT\",\n",
    "    \"Unnamed: 2\": \"Jan\",\n",
    "    \"Unnamed: 3\": \"Feb\",\n",
    "    \"Unnamed: 4\": \"Mar\",\n",
    "    \"Unnamed: 5\": \"Apr\",\n",
    "    \"Unnamed: 6\": \"May\",\n",
    "    \"Unnamed: 7\": \"Jun\",\n",
    "    \"Unnamed: 8\": \"Jul\",\n",
    "    \"Unnamed: 9\": \"Aug\",\n",
    "    \"Unnamed: 10\": \"Sep\",\n",
    "    \"Unnamed: 11\": \"Oct\",\n",
    "    \"Unnamed: 12\": \"Nov\",\n",
    "    \"Unnamed: 13\": \"Dec\",\n",
    "})\n",
    "df = df.drop([0,1])\n",
    "df['YEAR'] = 2004\n",
    "df.to_csv(\"GWDistrict-04.csv\", index=False)"
   ]
  },
  {
   "cell_type": "markdown",
   "metadata": {},
   "source": [
    "# 2005"
   ]
  },
  {
   "cell_type": "code",
   "execution_count": null,
   "metadata": {},
   "outputs": [],
   "source": [
    "df = pd.read_excel(\"/Users/khanfazil/Desktop/master's_project/GW_Levels_Districts/Jan-Dec_2005.xls\")\n",
    "df = df.replace(\"-\", \"\")\n",
    "df = df.rename(columns={\n",
    "    \"DISTRICTWISE Ground water Level (in m.) Report (<ALL AGENCIES> - <200501> to <200512>)\": \"STATE\",\n",
    "    \"Unnamed: 1\": \"DISTRICT\",\n",
    "    \"Unnamed: 2\": \"Jan\",\n",
    "    \"Unnamed: 3\": \"Feb\",\n",
    "    \"Unnamed: 4\": \"Mar\",\n",
    "    \"Unnamed: 5\": \"Apr\",\n",
    "    \"Unnamed: 6\": \"May\",\n",
    "    \"Unnamed: 7\": \"Jun\",\n",
    "    \"Unnamed: 8\": \"Jul\",\n",
    "    \"Unnamed: 9\": \"Aug\",\n",
    "    \"Unnamed: 10\": \"Sep\",\n",
    "    \"Unnamed: 11\": \"Oct\",\n",
    "    \"Unnamed: 12\": \"Nov\",\n",
    "    \"Unnamed: 13\": \"Dec\",\n",
    "})\n",
    "df = df.drop([0,1])\n",
    "df['YEAR'] = 2005\n",
    "df.to_csv(\"GWDistrict-05.csv\", index=False)"
   ]
  },
  {
   "cell_type": "markdown",
   "metadata": {},
   "source": [
    "# 2006"
   ]
  },
  {
   "cell_type": "code",
   "execution_count": null,
   "metadata": {},
   "outputs": [],
   "source": [
    "df = pd.read_excel(\"/Users/khanfazil/Desktop/master's_project/GW_Levels_Districts/Jan-Dec_2006.xls\")\n",
    "df = df.replace(\"-\", \"\")\n",
    "df = df.rename(columns={\n",
    "    \"DISTRICTWISE Ground water Level (in m.) Report (<ALL AGENCIES> - <200601> to <200612>)\": \"STATE\",\n",
    "    \"Unnamed: 1\": \"DISTRICT\",\n",
    "    \"Unnamed: 2\": \"Jan\",\n",
    "    \"Unnamed: 3\": \"Feb\",\n",
    "    \"Unnamed: 4\": \"Mar\",\n",
    "    \"Unnamed: 5\": \"Apr\",\n",
    "    \"Unnamed: 6\": \"May\",\n",
    "    \"Unnamed: 7\": \"Jun\",\n",
    "    \"Unnamed: 8\": \"Jul\",\n",
    "    \"Unnamed: 9\": \"Aug\",\n",
    "    \"Unnamed: 10\": \"Sep\",\n",
    "    \"Unnamed: 11\": \"Oct\",\n",
    "    \"Unnamed: 12\": \"Nov\",\n",
    "    \"Unnamed: 13\": \"Dec\",\n",
    "})\n",
    "df = df.drop([0,1])\n",
    "df['YEAR'] = 2006\n",
    "df.to_csv(\"GWDistrict-06.csv\", index=False)"
   ]
  },
  {
   "cell_type": "markdown",
   "metadata": {},
   "source": [
    "# 2007"
   ]
  },
  {
   "cell_type": "code",
   "execution_count": null,
   "metadata": {},
   "outputs": [],
   "source": [
    "df = pd.read_excel(\"/Users/khanfazil/Desktop/master's_project/GW_Levels_Districts/Jan-Dec_2007.xls\")\n",
    "df = df.replace(\"-\", \"\")\n",
    "df = df.rename(columns={\n",
    "    \"DISTRICTWISE Ground water Level (in m.) Report (<ALL AGENCIES> - <200701> to <200712>)\": \"STATE\",\n",
    "    \"Unnamed: 1\": \"DISTRICT\",\n",
    "    \"Unnamed: 2\": \"Jan\",\n",
    "    \"Unnamed: 3\": \"Feb\",\n",
    "    \"Unnamed: 4\": \"Mar\",\n",
    "    \"Unnamed: 5\": \"Apr\",\n",
    "    \"Unnamed: 6\": \"May\",\n",
    "    \"Unnamed: 7\": \"Jun\",\n",
    "    \"Unnamed: 8\": \"Jul\",\n",
    "    \"Unnamed: 9\": \"Aug\",\n",
    "    \"Unnamed: 10\": \"Sep\",\n",
    "    \"Unnamed: 11\": \"Oct\",\n",
    "    \"Unnamed: 12\": \"Nov\",\n",
    "    \"Unnamed: 13\": \"Dec\",\n",
    "})\n",
    "df = df.drop([0,1])\n",
    "df['YEAR'] = 2007\n",
    "df.to_csv(\"GWDistrict-07.csv\", index=False)"
   ]
  },
  {
   "cell_type": "markdown",
   "metadata": {},
   "source": [
    "# 2008"
   ]
  },
  {
   "cell_type": "code",
   "execution_count": null,
   "metadata": {},
   "outputs": [],
   "source": [
    "df = pd.read_excel(\"/Users/khanfazil/Desktop/master's_project/GW_Levels_Districts/Jan-Dec_2008.xls\")\n",
    "df = df.replace(\"-\", \"\")\n",
    "df = df.rename(columns={\n",
    "    \"DISTRICTWISE Ground water Level (in m.) Report (<ALL AGENCIES> - <200801> to <200812>)\": \"STATE\",\n",
    "    \"Unnamed: 1\": \"DISTRICT\",\n",
    "    \"Unnamed: 2\": \"Jan\",\n",
    "    \"Unnamed: 3\": \"Feb\",\n",
    "    \"Unnamed: 4\": \"Mar\",\n",
    "    \"Unnamed: 5\": \"Apr\",\n",
    "    \"Unnamed: 6\": \"May\",\n",
    "    \"Unnamed: 7\": \"Jun\",\n",
    "    \"Unnamed: 8\": \"Jul\",\n",
    "    \"Unnamed: 9\": \"Aug\",\n",
    "    \"Unnamed: 10\": \"Sep\",\n",
    "    \"Unnamed: 11\": \"Oct\",\n",
    "    \"Unnamed: 12\": \"Nov\",\n",
    "    \"Unnamed: 13\": \"Dec\",\n",
    "})\n",
    "df = df.drop([0,1])\n",
    "df['YEAR'] = 2008\n",
    "df.to_csv(\"GWDistrict-08.csv\", index=False)"
   ]
  },
  {
   "cell_type": "markdown",
   "metadata": {},
   "source": [
    "# 2009"
   ]
  },
  {
   "cell_type": "code",
   "execution_count": null,
   "metadata": {},
   "outputs": [],
   "source": [
    "df = pd.read_excel(\"/Users/khanfazil/Desktop/master's_project/GW_Levels_Districts/Jan-Dec_2009.xls\")\n",
    "df = df.replace(\"-\", \"\")\n",
    "df = df.rename(columns={\n",
    "    \"DISTRICTWISE Ground water Level (in m.) Report (<ALL AGENCIES> - <200901> to <200912>)\": \"STATE\",\n",
    "    \"Unnamed: 1\": \"DISTRICT\",\n",
    "    \"Unnamed: 2\": \"Jan\",\n",
    "    \"Unnamed: 3\": \"Feb\",\n",
    "    \"Unnamed: 4\": \"Mar\",\n",
    "    \"Unnamed: 5\": \"Apr\",\n",
    "    \"Unnamed: 6\": \"May\",\n",
    "    \"Unnamed: 7\": \"Jun\",\n",
    "    \"Unnamed: 8\": \"Jul\",\n",
    "    \"Unnamed: 9\": \"Aug\",\n",
    "    \"Unnamed: 10\": \"Sep\",\n",
    "    \"Unnamed: 11\": \"Oct\",\n",
    "    \"Unnamed: 12\": \"Nov\",\n",
    "    \"Unnamed: 13\": \"Dec\",\n",
    "})\n",
    "df = df.drop([0,1])\n",
    "df['YEAR'] = 2009\n",
    "df.to_csv(\"GWDistrict-09.csv\", index=False)"
   ]
  },
  {
   "cell_type": "markdown",
   "metadata": {},
   "source": [
    "# 2010"
   ]
  },
  {
   "cell_type": "code",
   "execution_count": null,
   "metadata": {},
   "outputs": [],
   "source": [
    "df = pd.read_excel(\"/Users/khanfazil/Desktop/master's_project/GW_Levels_Districts/Jan-Dec_2010.xls\")\n",
    "df = df.replace(\"-\", \"\")\n",
    "df = df.rename(columns={\n",
    "    \"DISTRICTWISE Ground water Level (in m.) Report (<ALL AGENCIES> - <201001> to <201012>)\": \"STATE\",\n",
    "    \"Unnamed: 1\": \"DISTRICT\",\n",
    "    \"Unnamed: 2\": \"Jan\",\n",
    "    \"Unnamed: 3\": \"Feb\",\n",
    "    \"Unnamed: 4\": \"Mar\",\n",
    "    \"Unnamed: 5\": \"Apr\",\n",
    "    \"Unnamed: 6\": \"May\",\n",
    "    \"Unnamed: 7\": \"Jun\",\n",
    "    \"Unnamed: 8\": \"Jul\",\n",
    "    \"Unnamed: 9\": \"Aug\",\n",
    "    \"Unnamed: 10\": \"Sep\",\n",
    "    \"Unnamed: 11\": \"Oct\",\n",
    "    \"Unnamed: 12\": \"Nov\",\n",
    "    \"Unnamed: 13\": \"Dec\",\n",
    "})\n",
    "df = df.drop([0,1])\n",
    "df['YEAR'] = 2010\n",
    "df.to_csv(\"GWDistrict-10.csv\", index=False)"
   ]
  },
  {
   "cell_type": "markdown",
   "metadata": {},
   "source": [
    "# 2011"
   ]
  },
  {
   "cell_type": "code",
   "execution_count": null,
   "metadata": {},
   "outputs": [],
   "source": [
    "df = pd.read_excel(\"/Users/khanfazil/Desktop/master's_project/GW_Levels_Districts/Jan-Dec_2011.xls\")\n",
    "df = df.replace(\"-\", \"\")\n",
    "df = df.rename(columns={\n",
    "    \"DISTRICTWISE Ground water Level (in m.) Report (<ALL AGENCIES> - <201101> to <201112>)\": \"STATE\",\n",
    "    \"Unnamed: 1\": \"DISTRICT\",\n",
    "    \"Unnamed: 2\": \"Jan\",\n",
    "    \"Unnamed: 3\": \"Feb\",\n",
    "    \"Unnamed: 4\": \"Mar\",\n",
    "    \"Unnamed: 5\": \"Apr\",\n",
    "    \"Unnamed: 6\": \"May\",\n",
    "    \"Unnamed: 7\": \"Jun\",\n",
    "    \"Unnamed: 8\": \"Jul\",\n",
    "    \"Unnamed: 9\": \"Aug\",\n",
    "    \"Unnamed: 10\": \"Sep\",\n",
    "    \"Unnamed: 11\": \"Oct\",\n",
    "    \"Unnamed: 12\": \"Nov\",\n",
    "    \"Unnamed: 13\": \"Dec\",\n",
    "})\n",
    "df = df.drop([0,1])\n",
    "df['YEAR'] = 2011\n",
    "df.to_csv(\"GWDistrict-11.csv\", index=False)"
   ]
  },
  {
   "cell_type": "markdown",
   "metadata": {},
   "source": [
    "# 2012"
   ]
  },
  {
   "cell_type": "code",
   "execution_count": null,
   "metadata": {},
   "outputs": [],
   "source": [
    "df = pd.read_excel(\"/Users/khanfazil/Desktop/master's_project/GW_Levels_Districts/Jan-Dec_2012.xls\")\n",
    "df = df.replace(\"-\", \"\")\n",
    "df = df.rename(columns={\n",
    "    \"DISTRICTWISE Ground water Level (in m.) Report (<ALL AGENCIES> - <201201> to <201212>)\": \"STATE\",\n",
    "    \"Unnamed: 1\": \"DISTRICT\",\n",
    "    \"Unnamed: 2\": \"Jan\",\n",
    "    \"Unnamed: 3\": \"Feb\",\n",
    "    \"Unnamed: 4\": \"Mar\",\n",
    "    \"Unnamed: 5\": \"Apr\",\n",
    "    \"Unnamed: 6\": \"May\",\n",
    "    \"Unnamed: 7\": \"Jun\",\n",
    "    \"Unnamed: 8\": \"Jul\",\n",
    "    \"Unnamed: 9\": \"Aug\",\n",
    "    \"Unnamed: 10\": \"Sep\",\n",
    "    \"Unnamed: 11\": \"Oct\",\n",
    "    \"Unnamed: 12\": \"Nov\",\n",
    "    \"Unnamed: 13\": \"Dec\",\n",
    "})\n",
    "df = df.drop([0,1])\n",
    "df['YEAR'] = 2012\n",
    "df.to_csv(\"GWDistrict-12.csv\", index=False)"
   ]
  },
  {
   "cell_type": "markdown",
   "metadata": {},
   "source": [
    "# 2013"
   ]
  },
  {
   "cell_type": "code",
   "execution_count": null,
   "metadata": {},
   "outputs": [],
   "source": [
    "df = pd.read_excel(\"/Users/khanfazil/Desktop/master's_project/GW_Levels_Districts/Jan-Dec_2013.xls\")\n",
    "df = df.replace(\"-\", \"\")\n",
    "df = df.rename(columns={\n",
    "    \"DISTRICTWISE Ground water Level (in m.) Report (<ALL AGENCIES> - <201301> to <201312>)\": \"STATE\",\n",
    "    \"Unnamed: 1\": \"DISTRICT\",\n",
    "    \"Unnamed: 2\": \"Jan\",\n",
    "    \"Unnamed: 3\": \"Feb\",\n",
    "    \"Unnamed: 4\": \"Mar\",\n",
    "    \"Unnamed: 5\": \"Apr\",\n",
    "    \"Unnamed: 6\": \"May\",\n",
    "    \"Unnamed: 7\": \"Jun\",\n",
    "    \"Unnamed: 8\": \"Jul\",\n",
    "    \"Unnamed: 9\": \"Aug\",\n",
    "    \"Unnamed: 10\": \"Sep\",\n",
    "    \"Unnamed: 11\": \"Oct\",\n",
    "    \"Unnamed: 12\": \"Nov\",\n",
    "    \"Unnamed: 13\": \"Dec\",\n",
    "})\n",
    "df = df.drop([0,1])\n",
    "df['YEAR'] = 2013\n",
    "df.to_csv(\"GWDistrict-13.csv\", index=False)"
   ]
  },
  {
   "cell_type": "markdown",
   "metadata": {},
   "source": [
    "# 2014"
   ]
  },
  {
   "cell_type": "code",
   "execution_count": null,
   "metadata": {},
   "outputs": [],
   "source": [
    "df = pd.read_excel(\"/Users/khanfazil/Desktop/master's_project/GW_Levels_Districts/Jan-Dec_2014.xls\")\n",
    "df = df.replace(\"-\", \"\")\n",
    "df = df.rename(columns={\n",
    "    \"DISTRICTWISE Ground water Level (in m.) Report (<ALL AGENCIES> - <201401> to <201412>)\": \"STATE\",\n",
    "    \"Unnamed: 1\": \"DISTRICT\",\n",
    "    \"Unnamed: 2\": \"Jan\",\n",
    "    \"Unnamed: 3\": \"Feb\",\n",
    "    \"Unnamed: 4\": \"Mar\",\n",
    "    \"Unnamed: 5\": \"Apr\",\n",
    "    \"Unnamed: 6\": \"May\",\n",
    "    \"Unnamed: 7\": \"Jun\",\n",
    "    \"Unnamed: 8\": \"Jul\",\n",
    "    \"Unnamed: 9\": \"Aug\",\n",
    "    \"Unnamed: 10\": \"Sep\",\n",
    "    \"Unnamed: 11\": \"Oct\",\n",
    "    \"Unnamed: 12\": \"Nov\",\n",
    "    \"Unnamed: 13\": \"Dec\",\n",
    "})\n",
    "df = df.drop([0,1])\n",
    "df['YEAR'] = 2014\n",
    "df.to_csv(\"GWDistrict-14.csv\", index=False)"
   ]
  },
  {
   "cell_type": "markdown",
   "metadata": {},
   "source": [
    "# 2015"
   ]
  },
  {
   "cell_type": "code",
   "execution_count": null,
   "metadata": {},
   "outputs": [],
   "source": [
    "df = pd.read_excel(\"/Users/khanfazil/Desktop/master's_project/GW_Levels_Districts/Jan-Dec_2015.xls\")\n",
    "df = df.replace(\"-\", \"\")\n",
    "df = df.rename(columns={\n",
    "    \"DISTRICTWISE Ground water Level (in m.) Report (<ALL AGENCIES> - <201501> to <201512>)\": \"STATE\",\n",
    "    \"Unnamed: 1\": \"DISTRICT\",\n",
    "    \"Unnamed: 2\": \"Jan\",\n",
    "    \"Unnamed: 3\": \"Feb\",\n",
    "    \"Unnamed: 4\": \"Mar\",\n",
    "    \"Unnamed: 5\": \"Apr\",\n",
    "    \"Unnamed: 6\": \"May\",\n",
    "    \"Unnamed: 7\": \"Jun\",\n",
    "    \"Unnamed: 8\": \"Jul\",\n",
    "    \"Unnamed: 9\": \"Aug\",\n",
    "    \"Unnamed: 10\": \"Sep\",\n",
    "    \"Unnamed: 11\": \"Oct\",\n",
    "    \"Unnamed: 12\": \"Nov\",\n",
    "    \"Unnamed: 13\": \"Dec\",\n",
    "})\n",
    "df = df.drop([0,1])\n",
    "df['YEAR'] = 2015\n",
    "df.to_csv(\"GWDistrict-15.csv\", index=False)"
   ]
  },
  {
   "cell_type": "markdown",
   "metadata": {},
   "source": [
    "# 2016"
   ]
  },
  {
   "cell_type": "code",
   "execution_count": null,
   "metadata": {},
   "outputs": [],
   "source": [
    "df = pd.read_excel(\"/Users/khanfazil/Desktop/master's_project/GW_Levels_Districts/Jan-Dec_2016.xls\")\n",
    "df = df.replace(\"-\", \"\")\n",
    "df = df.rename(columns={\n",
    "    \"DISTRICTWISE Ground water Level (in m.) Report (<ALL AGENCIES> - <201601> to <201612>)\": \"STATE\",\n",
    "    \"Unnamed: 1\": \"DISTRICT\",\n",
    "    \"Unnamed: 2\": \"Jan\",\n",
    "    \"Unnamed: 3\": \"Feb\",\n",
    "    \"Unnamed: 4\": \"Mar\",\n",
    "    \"Unnamed: 5\": \"Apr\",\n",
    "    \"Unnamed: 6\": \"May\",\n",
    "    \"Unnamed: 7\": \"Jun\",\n",
    "    \"Unnamed: 8\": \"Jul\",\n",
    "    \"Unnamed: 9\": \"Aug\",\n",
    "    \"Unnamed: 10\": \"Sep\",\n",
    "    \"Unnamed: 11\": \"Oct\",\n",
    "    \"Unnamed: 12\": \"Nov\",\n",
    "    \"Unnamed: 13\": \"Dec\",\n",
    "})\n",
    "df = df.drop([0,1])\n",
    "df['YEAR'] = 2016\n",
    "df.to_csv(\"GWDistrict-16.csv\", index=False)"
   ]
  },
  {
   "cell_type": "markdown",
   "metadata": {},
   "source": [
    "# 2017"
   ]
  },
  {
   "cell_type": "code",
   "execution_count": null,
   "metadata": {},
   "outputs": [],
   "source": [
    "df = pd.read_excel(\"/Users/khanfazil/Desktop/master's_project/GW_Levels_Districts/Jan-Dec_2017.xls\")\n",
    "df = df.replace(\"-\", \"\")\n",
    "df = df.rename(columns={\n",
    "    \"DISTRICTWISE Ground water Level (in m.) Report (<ALL AGENCIES> - <201701> to <201712>)\": \"STATE\",\n",
    "    \"Unnamed: 1\": \"DISTRICT\",\n",
    "    \"Unnamed: 2\": \"Jan\",\n",
    "    \"Unnamed: 3\": \"Feb\",\n",
    "    \"Unnamed: 4\": \"Mar\",\n",
    "    \"Unnamed: 5\": \"Apr\",\n",
    "    \"Unnamed: 6\": \"May\",\n",
    "    \"Unnamed: 7\": \"Jun\",\n",
    "    \"Unnamed: 8\": \"Jul\",\n",
    "    \"Unnamed: 9\": \"Aug\",\n",
    "    \"Unnamed: 10\": \"Sep\",\n",
    "    \"Unnamed: 11\": \"Oct\",\n",
    "    \"Unnamed: 12\": \"Nov\",\n",
    "    \"Unnamed: 13\": \"Dec\",\n",
    "})\n",
    "df = df.drop([0,1])\n",
    "df['YEAR'] = 2017\n",
    "df.to_csv(\"GWDistrict-17.csv\", index=False)"
   ]
  },
  {
   "cell_type": "markdown",
   "metadata": {},
   "source": [
    "# 2018"
   ]
  },
  {
   "cell_type": "code",
   "execution_count": null,
   "metadata": {},
   "outputs": [],
   "source": [
    "df = pd.read_excel(\"/Users/khanfazil/Desktop/master's_project/GW_Levels_Districts/Jan-Dec_2018.xls\")\n",
    "df = df.replace(\"-\", \"\")\n",
    "df = df.rename(columns={\n",
    "    \"DISTRICTWISE Ground water Level (in m.) Report (<ALL AGENCIES> - <201801> to <201812>)\": \"STATE\",\n",
    "    \"Unnamed: 1\": \"DISTRICT\",\n",
    "    \"Unnamed: 2\": \"Jan\",\n",
    "    \"Unnamed: 3\": \"Feb\",\n",
    "    \"Unnamed: 4\": \"Mar\",\n",
    "    \"Unnamed: 5\": \"Apr\",\n",
    "    \"Unnamed: 6\": \"May\",\n",
    "    \"Unnamed: 7\": \"Jun\",\n",
    "    \"Unnamed: 8\": \"Jul\",\n",
    "    \"Unnamed: 9\": \"Aug\",\n",
    "    \"Unnamed: 10\": \"Sep\",\n",
    "    \"Unnamed: 11\": \"Oct\",\n",
    "    \"Unnamed: 12\": \"Nov\",\n",
    "    \"Unnamed: 13\": \"Dec\",\n",
    "})\n",
    "df = df.drop([0,1])\n",
    "df['YEAR'] = 2018\n",
    "df.to_csv(\"GWDistrict-18.csv\", index=False)"
   ]
  },
  {
   "cell_type": "markdown",
   "metadata": {},
   "source": [
    "# Concatenating All the CSVs"
   ]
  },
  {
   "cell_type": "code",
   "execution_count": null,
   "metadata": {},
   "outputs": [],
   "source": [
    "csv_file_list = ['GWDistrict-96.csv', 'GWDistrict-97.csv', 'GWDistrict-98.csv', 'GWDistrict-99.csv', 'GWDistrict-00.csv',\n",
    "                'GWDistrict-01.csv', 'GWDistrict-02.csv', 'GWDistrict-03.csv', 'GWDistrict-04.csv', 'GWDistrict-05.csv',\n",
    "                'GWDistrict-06.csv', 'GWDistrict-07.csv', 'GWDistrict-08.csv', 'GWDistrict-09.csv', 'GWDistrict-10.csv',\n",
    "                'GWDistrict-11.csv', 'GWDistrict-12.csv', 'GWDistrict-13.csv', 'GWDistrict-14.csv', 'GWDistrict-15.csv',\n",
    "                'GWDistrict-16.csv', 'GWDistrict-17.csv', 'GWDistrict-18.csv']\n",
    "\n",
    "list_of_dataframes = []\n",
    "for filename in csv_file_list:\n",
    "    list_of_dataframes.append(pd.read_csv(filename))\n",
    "\n",
    "df = pd.concat(list_of_dataframes)"
   ]
  },
  {
   "cell_type": "markdown",
   "metadata": {},
   "source": [
    "### Section 1"
   ]
  },
  {
   "cell_type": "markdown",
   "metadata": {},
   "source": [
    "Making a new dataframe df1 with just the years 1996 and 2018 to have comparable values for pre-monsoon levels."
   ]
  },
  {
   "cell_type": "code",
   "execution_count": null,
   "metadata": {},
   "outputs": [],
   "source": [
    "df1 = df[(df.YEAR == 1996) | (df.YEAR == 2018)]"
   ]
  },
  {
   "cell_type": "markdown",
   "metadata": {},
   "source": [
    "Filtering data further to make a new dataframe (df_May) to just have May values."
   ]
  },
  {
   "cell_type": "code",
   "execution_count": null,
   "metadata": {},
   "outputs": [],
   "source": [
    "df_May = df1[['STATE','DISTRICT', 'YEAR', 'May']]"
   ]
  },
  {
   "cell_type": "markdown",
   "metadata": {},
   "source": [
    "Separating 1996 and 2018 in new dataframes."
   ]
  },
  {
   "cell_type": "code",
   "execution_count": null,
   "metadata": {},
   "outputs": [],
   "source": [
    "df_May['1996'] = df_May['YEAR'] == 1996"
   ]
  },
  {
   "cell_type": "code",
   "execution_count": null,
   "metadata": {},
   "outputs": [],
   "source": [
    "df_May['1996'] = df_May[df_May['YEAR']==1996]['May']"
   ]
  },
  {
   "cell_type": "code",
   "execution_count": null,
   "metadata": {},
   "outputs": [],
   "source": [
    "df_May['2018'] = df_May[df_May['YEAR']==2018]['May']"
   ]
  },
  {
   "cell_type": "markdown",
   "metadata": {},
   "source": [
    "Assigning the May values to their respective year columns which were created in the cells above."
   ]
  },
  {
   "cell_type": "code",
   "execution_count": null,
   "metadata": {},
   "outputs": [],
   "source": [
    "df_May = df_May[['STATE', 'DISTRICT', '1996', '2018']]"
   ]
  },
  {
   "cell_type": "markdown",
   "metadata": {},
   "source": [
    "Plotting the data as a horizontal bar to have a first look at the change across districts in water levels between 1996 and 2018."
   ]
  },
  {
   "cell_type": "code",
   "execution_count": null,
   "metadata": {},
   "outputs": [],
   "source": [
    "import matplotlib.pyplot as plt"
   ]
  },
  {
   "cell_type": "code",
   "execution_count": null,
   "metadata": {},
   "outputs": [],
   "source": [
    "df_May.plot(x='DISTRICT', kind='barh', figsize=(10, 30))"
   ]
  },
  {
   "cell_type": "markdown",
   "metadata": {},
   "source": [
    "As I later noticed the approach to make separate year columns gave me duplicates for each of the districts. Resulting in 82 rows instead of 41. I'll fix this later on."
   ]
  },
  {
   "cell_type": "markdown",
   "metadata": {},
   "source": [
    "Doing the same thing with Altair. Returning to Year being a single column and values in a column of its own titled May. new dataframe is called dfNEW."
   ]
  },
  {
   "cell_type": "code",
   "execution_count": null,
   "metadata": {},
   "outputs": [],
   "source": [
    "import altair as alt"
   ]
  },
  {
   "cell_type": "code",
   "execution_count": null,
   "metadata": {},
   "outputs": [],
   "source": [
    "dfNEW = df1[['STATE','DISTRICT', 'YEAR', 'May']]"
   ]
  },
  {
   "cell_type": "code",
   "execution_count": null,
   "metadata": {},
   "outputs": [],
   "source": [
    "alt.Chart(dfNEW).mark_bar().encode(\n",
    "    x = 'May:Q',\n",
    "    y = 'YEAR:N',\n",
    "    color = 'YEAR:N',\n",
    "    row = 'DISTRICT:N',\n",
    "    tooltip = ['DISTRICT','May'],\n",
    ").properties(\n",
    "    width=500,\n",
    "    height=70\n",
    ")"
   ]
  },
  {
   "cell_type": "markdown",
   "metadata": {},
   "source": [
    "### Side-track"
   ]
  },
  {
   "cell_type": "markdown",
   "metadata": {},
   "source": [
    "Making a plottable timeseries dataframe for May (pre-monsoon) and Nov (post-monsson) levels."
   ]
  },
  {
   "cell_type": "code",
   "execution_count": null,
   "metadata": {},
   "outputs": [],
   "source": [
    "df_timeSeries = df[['STATE', 'DISTRICT', 'May', 'Nov', 'YEAR']]"
   ]
  },
  {
   "cell_type": "code",
   "execution_count": null,
   "metadata": {},
   "outputs": [],
   "source": []
  },
  {
   "cell_type": "markdown",
   "metadata": {},
   "source": [
    "### Section 2"
   ]
  },
  {
   "cell_type": "markdown",
   "metadata": {},
   "source": [
    "Making separate dataframes for both the states from the Altair plottable dfNEW."
   ]
  },
  {
   "cell_type": "code",
   "execution_count": null,
   "metadata": {},
   "outputs": [],
   "source": [
    "dfHR = dfNEW[dfNEW['STATE'] == \"HARYANA\"]"
   ]
  },
  {
   "cell_type": "code",
   "execution_count": null,
   "metadata": {},
   "outputs": [],
   "source": [
    "dfPN = dfNEW[dfNEW['STATE'] == \"PUNJAB\"]"
   ]
  },
  {
   "cell_type": "code",
   "execution_count": null,
   "metadata": {},
   "outputs": [],
   "source": [
    "HRMap = alt.Chart(dfHR).mark_bar().encode(\n",
    "    x = 'May:Q',\n",
    "    y = 'YEAR:N',\n",
    "    color = 'YEAR:N',\n",
    "    row = 'DISTRICT:N',\n",
    "    tooltip = ['DISTRICT','May'],\n",
    ").properties(\n",
    "    width=500,\n",
    "    height=70\n",
    ")\n",
    "\n",
    "HRMap"
   ]
  },
  {
   "cell_type": "code",
   "execution_count": null,
   "metadata": {},
   "outputs": [],
   "source": [
    "PNMap = alt.Chart(dfPN).mark_bar().encode(\n",
    "    x = 'May:Q',\n",
    "    y = 'YEAR:N',\n",
    "    color = 'YEAR:N',\n",
    "    row = 'DISTRICT:N',\n",
    "    tooltip = ['DISTRICT','May'],\n",
    ").properties(\n",
    "    width=500,\n",
    "    height=70\n",
    ")\n",
    "PNMap"
   ]
  },
  {
   "cell_type": "markdown",
   "metadata": {},
   "source": [
    "Calculating overall state-level decline in GW levels."
   ]
  },
  {
   "cell_type": "code",
   "execution_count": null,
   "metadata": {},
   "outputs": [],
   "source": [
    "dfPN.groupby('YEAR').May.mean()"
   ]
  },
  {
   "cell_type": "code",
   "execution_count": null,
   "metadata": {},
   "outputs": [],
   "source": [
    "dfHR.groupby('YEAR').May.mean()"
   ]
  },
  {
   "cell_type": "markdown",
   "metadata": {},
   "source": [
    "### Section 3"
   ]
  },
  {
   "cell_type": "markdown",
   "metadata": {},
   "source": [
    "Converting meter values to feet (because American audience). Also, calculating % change."
   ]
  },
  {
   "cell_type": "markdown",
   "metadata": {},
   "source": [
    "Making separate \"Just May\" dataframes for both states from df_May (The dataframe that has duplicate values for each district). I tried this for a different assingment. I will later do the same thing more properly."
   ]
  },
  {
   "cell_type": "code",
   "execution_count": null,
   "metadata": {},
   "outputs": [],
   "source": [
    "dfHRMay = df_May[df_May['STATE'] == \"HARYANA\"]"
   ]
  },
  {
   "cell_type": "code",
   "execution_count": null,
   "metadata": {},
   "outputs": [],
   "source": [
    "dfPNMay = df_May[df_May['STATE'] == \"PUNJAB\"]"
   ]
  },
  {
   "cell_type": "markdown",
   "metadata": {},
   "source": [
    "Dropping duplicates here."
   ]
  },
  {
   "cell_type": "code",
   "execution_count": null,
   "metadata": {},
   "outputs": [],
   "source": [
    "dfHRMay = dfHRMay.drop_duplicates(subset=['DISTRICT'])"
   ]
  },
  {
   "cell_type": "code",
   "execution_count": null,
   "metadata": {},
   "outputs": [],
   "source": [
    "dfHRMay['1996'] = round(dfHRMay['1996'] * 3.281)\n",
    "dfHRMay['2018'] = round(dfHRMay['2018'] * 3.281)"
   ]
  },
  {
   "cell_type": "code",
   "execution_count": null,
   "metadata": {},
   "outputs": [],
   "source": [
    "dfHRMay['%Change'] = round(((dfHRMay['2018'] - dfHRMay['1996']) / dfHRMay['1996']) * 100)"
   ]
  },
  {
   "cell_type": "code",
   "execution_count": null,
   "metadata": {},
   "outputs": [],
   "source": [
    "dfPNMay = dfPNMay.drop_duplicates(subset=['DISTRICT'])\n",
    "dfPNMay['1996'] = round(dfPNMay['1996'] * 3.281)\n",
    "dfPNMay['2018'] = round(dfPNMay['2018'] * 3.281)\n",
    "dfPNMay['%Change'] = round(((dfPNMay['2018'] - dfPNMay['1996']) / dfPNMay['1996']) * 100)"
   ]
  },
  {
   "cell_type": "markdown",
   "metadata": {},
   "source": [
    "Merging the two resultant dataframes and saving a csv for records."
   ]
  },
  {
   "cell_type": "code",
   "execution_count": null,
   "metadata": {},
   "outputs": [],
   "source": [
    "mergedDistricts = dfHRMay.append(dfPNMay, ignore_index=True)"
   ]
  },
  {
   "cell_type": "code",
   "execution_count": null,
   "metadata": {},
   "outputs": [],
   "source": [
    "mergedDistricts.to_csv('mergedDistricts.csv', index=False)"
   ]
  },
  {
   "cell_type": "markdown",
   "metadata": {},
   "source": [
    "### Section 4"
   ]
  },
  {
   "cell_type": "markdown",
   "metadata": {},
   "source": [
    "Kind of doing the same calculations for Nov (post-monsoon) levels."
   ]
  },
  {
   "cell_type": "code",
   "execution_count": null,
   "metadata": {},
   "outputs": [],
   "source": [
    "df2 = df[(df.YEAR == 1996) | (df.YEAR == 2017)]"
   ]
  },
  {
   "cell_type": "code",
   "execution_count": null,
   "metadata": {},
   "outputs": [],
   "source": [
    "dfNov = df2[['STATE','DISTRICT', 'YEAR', 'Nov']]"
   ]
  },
  {
   "cell_type": "markdown",
   "metadata": {},
   "source": [
    "This is where I think duplicates are created. When I make a new column for 1996, that column also get values for 2018 and vice-versa."
   ]
  },
  {
   "cell_type": "code",
   "execution_count": null,
   "metadata": {},
   "outputs": [],
   "source": [
    "dfNov['1996'] = dfNov[dfNov['YEAR']==1996]['Nov']"
   ]
  },
  {
   "cell_type": "code",
   "execution_count": null,
   "metadata": {},
   "outputs": [],
   "source": [
    "dfNov['2017'] = dfNov[dfNov['YEAR']==2017]['Nov']"
   ]
  },
  {
   "cell_type": "code",
   "execution_count": null,
   "metadata": {},
   "outputs": [],
   "source": [
    "dfNov = dfNov[['STATE', 'DISTRICT', '1996', '2017']]"
   ]
  },
  {
   "cell_type": "markdown",
   "metadata": {},
   "source": [
    "Making separate dataframes for states"
   ]
  },
  {
   "cell_type": "code",
   "execution_count": null,
   "metadata": {},
   "outputs": [],
   "source": [
    "dfHRNov = dfNov[dfNov['STATE'] == \"HARYANA\"]"
   ]
  },
  {
   "cell_type": "code",
   "execution_count": null,
   "metadata": {},
   "outputs": [],
   "source": [
    "dfPNNov = dfNov[dfNov['STATE'] == \"PUNJAB\"]"
   ]
  },
  {
   "cell_type": "code",
   "execution_count": null,
   "metadata": {},
   "outputs": [],
   "source": [
    "dfHRNov = dfHRNov.drop_duplicates(subset=['DISTRICT'])"
   ]
  },
  {
   "cell_type": "code",
   "execution_count": null,
   "metadata": {},
   "outputs": [],
   "source": [
    "dfPNNov = dfPNNov.drop_duplicates(subset=['DISTRICT'])"
   ]
  },
  {
   "cell_type": "markdown",
   "metadata": {},
   "source": [
    "Calculating overall state change in GW levels."
   ]
  },
  {
   "cell_type": "code",
   "execution_count": null,
   "metadata": {},
   "outputs": [],
   "source": [
    "dfHRNov['1996'].mean(), dfHRNov['2017'].mean()"
   ]
  },
  {
   "cell_type": "code",
   "execution_count": null,
   "metadata": {},
   "outputs": [],
   "source": [
    "dfPNNov['1996'].mean(), dfPNNov['2017'].mean()"
   ]
  },
  {
   "cell_type": "markdown",
   "metadata": {},
   "source": [
    "### Side-track 3"
   ]
  },
  {
   "cell_type": "markdown",
   "metadata": {},
   "source": [
    "Using dfNEW. Converting meters to feet and saving a csv."
   ]
  },
  {
   "cell_type": "code",
   "execution_count": null,
   "metadata": {},
   "outputs": [],
   "source": [
    "dfNEW.May = round(dfNEW.May * 3.281)"
   ]
  },
  {
   "cell_type": "code",
   "execution_count": null,
   "metadata": {},
   "outputs": [],
   "source": [
    "dfNEW.to_csv('dfNEW.csv', index=False)"
   ]
  },
  {
   "cell_type": "markdown",
   "metadata": {},
   "source": [
    "### Section 5"
   ]
  },
  {
   "cell_type": "markdown",
   "metadata": {},
   "source": [
    "Going back to the Original dataframe."
   ]
  },
  {
   "cell_type": "markdown",
   "metadata": {},
   "source": [
    "Dropping all the columns which won't be used."
   ]
  },
  {
   "cell_type": "code",
   "execution_count": null,
   "metadata": {},
   "outputs": [],
   "source": [
    "df = df.drop(columns=['Jan', 'Feb', 'Mar', 'Apr', 'Jun', 'Jul', 'Aug', 'Sep', 'Oct', 'Dec'])"
   ]
  },
  {
   "cell_type": "markdown",
   "metadata": {},
   "source": [
    "Making a dataframe form Punjab's districts and converting values from meters to feet."
   ]
  },
  {
   "cell_type": "code",
   "execution_count": null,
   "metadata": {},
   "outputs": [],
   "source": [
    "PunjabDist18 = df[df.STATE == \"PUNJAB\"]"
   ]
  },
  {
   "cell_type": "code",
   "execution_count": null,
   "metadata": {},
   "outputs": [],
   "source": [
    "PunjabDist18.May = PunjabDist18.May * 3.281\n",
    "PunjabDist18.Nov = PunjabDist18.Nov * 3.281"
   ]
  },
  {
   "cell_type": "markdown",
   "metadata": {},
   "source": [
    "Commented out pivot code that I used to copy paste time-series values and racing bars later."
   ]
  },
  {
   "cell_type": "code",
   "execution_count": null,
   "metadata": {},
   "outputs": [],
   "source": [
    "# PunjabDistMay18.pivot_table(values='May',index='DISTRICT',columns='YEAR')"
   ]
  },
  {
   "cell_type": "code",
   "execution_count": null,
   "metadata": {},
   "outputs": [],
   "source": [
    "# PunjabDistMay18.pivot_table(values='Nov',index='DISTRICT',columns='YEAR')"
   ]
  },
  {
   "cell_type": "markdown",
   "metadata": {},
   "source": [
    "Doing the same thing for Haryana"
   ]
  },
  {
   "cell_type": "code",
   "execution_count": null,
   "metadata": {},
   "outputs": [],
   "source": [
    "HaryanaDist18 = df[df.STATE == \"HARYANA\"]"
   ]
  },
  {
   "cell_type": "code",
   "execution_count": null,
   "metadata": {},
   "outputs": [],
   "source": [
    "HaryanaDist18.May = HaryanaDist18.May * 3.281\n",
    "HaryanaDist18.Nov = HaryanaDist18.Nov * 3.281"
   ]
  },
  {
   "cell_type": "code",
   "execution_count": null,
   "metadata": {},
   "outputs": [],
   "source": [
    "# HaryanaDist18.pivot_table(values='May',index='DISTRICT',columns='YEAR')"
   ]
  },
  {
   "cell_type": "code",
   "execution_count": null,
   "metadata": {},
   "outputs": [],
   "source": [
    "# HaryanaDist18.pivot_table(values='Nov',index='DISTRICT',columns='YEAR')"
   ]
  },
  {
   "cell_type": "markdown",
   "metadata": {},
   "source": [
    "Getting pre-post monsoon measurements together to make the table later on."
   ]
  },
  {
   "cell_type": "code",
   "execution_count": null,
   "metadata": {},
   "outputs": [],
   "source": [
    "PunjabDist18 = PunjabDist18[(PunjabDist18.YEAR == 1996) | (PunjabDist18.YEAR == 2017)]"
   ]
  },
  {
   "cell_type": "code",
   "execution_count": null,
   "metadata": {},
   "outputs": [],
   "source": [
    "PunjabDist18.to_csv(\"PunjabDistPrePost.csv\", index=False)"
   ]
  },
  {
   "cell_type": "code",
   "execution_count": null,
   "metadata": {},
   "outputs": [],
   "source": [
    "HaryanaDist18 = HaryanaDist18[(HaryanaDist18.YEAR == 1996) | (HaryanaDist18.YEAR == 2017)]"
   ]
  },
  {
   "cell_type": "code",
   "execution_count": null,
   "metadata": {},
   "outputs": [],
   "source": [
    "HaryanaDist18.to_csv(\"HaryanaDistPrePost.csv\", index=False)"
   ]
  },
  {
   "cell_type": "code",
   "execution_count": null,
   "metadata": {},
   "outputs": [],
   "source": [
    "csv_list = [\"/Users/khanfazil/Desktop/master's_project/PunjabDistPrePost.csv\",\n",
    "                \"/Users/khanfazil/Desktop/master's_project/HaryanaDistPrePost.csv\"]\n",
    "\n",
    "list_of_dataframes = []\n",
    "for filename in csv_list:\n",
    "    list_of_dataframes.append(pd.read_csv(filename))\n",
    "\n",
    "prePostLevels = pd.concat(list_of_dataframes)"
   ]
  },
  {
   "cell_type": "code",
   "execution_count": null,
   "metadata": {},
   "outputs": [],
   "source": [
    "# prePostLevels.pivot_table(values='May',index='DISTRICT',columns='YEAR')"
   ]
  },
  {
   "cell_type": "code",
   "execution_count": null,
   "metadata": {},
   "outputs": [],
   "source": [
    "# prePostLevels.pivot_table(values='Nov',index='DISTRICT',columns='YEAR')"
   ]
  },
  {
   "cell_type": "markdown",
   "metadata": {},
   "source": [
    "### Section 6"
   ]
  },
  {
   "cell_type": "markdown",
   "metadata": {},
   "source": [
    "Tried to merge the dataframe with a districts GeoJson and export the merged file as a GeoJson. Did not work."
   ]
  },
  {
   "cell_type": "code",
   "execution_count": null,
   "metadata": {},
   "outputs": [],
   "source": [
    "import geopandas as gpd"
   ]
  },
  {
   "cell_type": "code",
   "execution_count": null,
   "metadata": {},
   "outputs": [],
   "source": [
    "import geojson"
   ]
  },
  {
   "cell_type": "code",
   "execution_count": null,
   "metadata": {},
   "outputs": [],
   "source": [
    "DistrictsGeo = gpd.read_file(\"2011_Dist.json\")"
   ]
  },
  {
   "cell_type": "code",
   "execution_count": null,
   "metadata": {},
   "outputs": [],
   "source": [
    "DistrictsGeo = DistrictsGeo.rename(columns={\n",
    "    \"ST_NM\": \"STATE\"\n",
    "})\n",
    "DistrictsGeo = DistrictsGeo.drop(columns=['censuscode'])"
   ]
  },
  {
   "cell_type": "code",
   "execution_count": null,
   "metadata": {},
   "outputs": [],
   "source": [
    "DistrictsGeo = DistrictsGeo[(DistrictsGeo.STATE == \"Punjab\") | (DistrictsGeo.STATE == \"Haryana\")]"
   ]
  },
  {
   "cell_type": "code",
   "execution_count": null,
   "metadata": {},
   "outputs": [],
   "source": [
    "# DistrictsGeo = DistrictsGeo.drop_duplicates(subset=['DISTRICT'])"
   ]
  },
  {
   "cell_type": "code",
   "execution_count": null,
   "metadata": {},
   "outputs": [],
   "source": [
    "DistrictsGeo.DISTRICT = DistrictsGeo.DISTRICT.str.upper()"
   ]
  },
  {
   "cell_type": "code",
   "execution_count": null,
   "metadata": {},
   "outputs": [],
   "source": [
    "dfDistDeo = df.merge(DistrictsGeo, on='DISTRICT', how='left')"
   ]
  },
  {
   "cell_type": "code",
   "execution_count": null,
   "metadata": {},
   "outputs": [],
   "source": [
    "dfDistDeo.to_csv(\"dfDistDeo.csv\", index=False)"
   ]
  },
  {
   "cell_type": "code",
   "execution_count": null,
   "metadata": {},
   "outputs": [],
   "source": []
  },
  {
   "cell_type": "code",
   "execution_count": null,
   "metadata": {},
   "outputs": [],
   "source": []
  }
 ],
 "metadata": {
  "kernelspec": {
   "display_name": "Python 3",
   "language": "python",
   "name": "python3"
  },
  "language_info": {
   "codemirror_mode": {
    "name": "ipython",
    "version": 3
   },
   "file_extension": ".py",
   "mimetype": "text/x-python",
   "name": "python",
   "nbconvert_exporter": "python",
   "pygments_lexer": "ipython3",
   "version": "3.7.1"
  }
 },
 "nbformat": 4,
 "nbformat_minor": 4
}
