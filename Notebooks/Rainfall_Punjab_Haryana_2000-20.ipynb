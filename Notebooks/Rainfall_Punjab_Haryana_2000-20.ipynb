{
 "cells": [
  {
   "cell_type": "markdown",
   "metadata": {},
   "source": [
    "## Importing Libraries"
   ]
  },
  {
   "cell_type": "code",
   "execution_count": null,
   "metadata": {},
   "outputs": [],
   "source": [
    "import pandas as pd\n",
    "import numpy as np\n",
    "import xlrd\n",
    "\n",
    "pd.set_option('display.max_colwidth', 200)\n",
    "pd.set_option('display.max_columns', 100)"
   ]
  },
  {
   "cell_type": "markdown",
   "metadata": {},
   "source": [
    "## Cleaning Excel files and exporting as CSVs"
   ]
  },
  {
   "cell_type": "markdown",
   "metadata": {},
   "source": [
    "## 2000"
   ]
  },
  {
   "cell_type": "code",
   "execution_count": null,
   "metadata": {},
   "outputs": [],
   "source": [
    "df = pd.read_excel(\"rainfall_State Wise Timeseries_1626747190826.xls\")\n",
    "df = df.drop(columns={\n",
    "    \"Unnamed: 1\", \"Unnamed: 2\", \"Unnamed: 3\", \"Unnamed: 4\", \"Unnamed: 5\", \"Unnamed: 6\", \"Unnamed: 7\",\n",
    "    \"Unnamed: 8\", \"Unnamed: 9\", \"Unnamed: 10\", \"Unnamed: 11\", \"Unnamed: 12\", \"Unnamed: 13\", \"Unnamed: 14\",\n",
    "    \"Unnamed: 15\", \"Unnamed: 28\", \"Unnamed: 29\", \"Unnamed: 30\", \"Unnamed: 31\",\n",
    "    \"Unnamed: 32\", \"Unnamed: 33\", \"Unnamed: 34\", \"Unnamed: 35\", \"Unnamed: 36\"\n",
    "})\n",
    "df = df.rename(columns={\n",
    "    \"RainFall Report - STATEWISE - (SUM) (IMD GRID) : 200001 - 200012\": \"State\",\n",
    "    \"Unnamed: 16\": \"Jun_Actual(mm)\",\n",
    "    \"Unnamed: 17\": \"Jun_Normal(mm)\",\n",
    "    \"Unnamed: 18\": \"Jun_Dev%\",\n",
    "    \"Unnamed: 19\": \"Jul_Actual(mm)\",\n",
    "    \"Unnamed: 20\": \"Jul_Normal(mm)\",\n",
    "    \"Unnamed: 21\": \"Jul_Dev%\",\n",
    "    \"Unnamed: 22\": \"Aug_Actual(mm)\",\n",
    "    \"Unnamed: 23\": \"Aug_Normal(mm)\",\n",
    "    \"Unnamed: 24\": \"Aug_Dev%\",\n",
    "    \"Unnamed: 25\": \"Sep_Actual(mm)\",\n",
    "    \"Unnamed: 26\": \"Sep_Normal(mm)\",\n",
    "    \"Unnamed: 27\": \"Sep_dev%\",\n",
    "    \"Unnamed: 37\": \"Cumu_Actual(mm)\",\n",
    "    \"Unnamed: 38\": \"Cumu_Normal(mm)\",\n",
    "    \"Unnamed: 39\": \"Cumu_Dev%\"\n",
    "})\n",
    "df = df.drop([0,1,4])\n",
    "df['YEAR'] = \"2000\"\n",
    "df.to_csv(\"Rainfall_00.csv\", index=False)"
   ]
  },
  {
   "cell_type": "markdown",
   "metadata": {},
   "source": [
    "## 2001"
   ]
  },
  {
   "cell_type": "code",
   "execution_count": null,
   "metadata": {},
   "outputs": [],
   "source": [
    "df = pd.read_excel(\"rainfall_State Wise Timeseries_1626747184061.xls\")\n",
    "df = df.drop(columns={\n",
    "    \"Unnamed: 1\", \"Unnamed: 2\", \"Unnamed: 3\", \"Unnamed: 4\", \"Unnamed: 5\", \"Unnamed: 6\", \"Unnamed: 7\",\n",
    "    \"Unnamed: 8\", \"Unnamed: 9\", \"Unnamed: 10\", \"Unnamed: 11\", \"Unnamed: 12\", \"Unnamed: 13\", \"Unnamed: 14\",\n",
    "    \"Unnamed: 15\", \"Unnamed: 28\", \"Unnamed: 29\", \"Unnamed: 30\", \"Unnamed: 31\",\n",
    "    \"Unnamed: 32\", \"Unnamed: 33\", \"Unnamed: 34\", \"Unnamed: 35\", \"Unnamed: 36\"\n",
    "})\n",
    "df = df.rename(columns={\n",
    "    \"RainFall Report - STATEWISE - (SUM) (IMD GRID) : 200101 - 200112\": \"State\",\n",
    "    \"Unnamed: 16\": \"Jun_Actual(mm)\",\n",
    "    \"Unnamed: 17\": \"Jun_Normal(mm)\",\n",
    "    \"Unnamed: 18\": \"Jun_Dev%\",\n",
    "    \"Unnamed: 19\": \"Jul_Actual(mm)\",\n",
    "    \"Unnamed: 20\": \"Jul_Normal(mm)\",\n",
    "    \"Unnamed: 21\": \"Jul_Dev%\",\n",
    "    \"Unnamed: 22\": \"Aug_Actual(mm)\",\n",
    "    \"Unnamed: 23\": \"Aug_Normal(mm)\",\n",
    "    \"Unnamed: 24\": \"Aug_Dev%\",\n",
    "    \"Unnamed: 25\": \"Sep_Actual(mm)\",\n",
    "    \"Unnamed: 26\": \"Sep_Normal(mm)\",\n",
    "    \"Unnamed: 27\": \"Sep_dev%\",\n",
    "    \"Unnamed: 37\": \"Cumu_Actual(mm)\",\n",
    "    \"Unnamed: 38\": \"Cumu_Normal(mm)\",\n",
    "    \"Unnamed: 39\": \"Cumu_Dev%\"\n",
    "})\n",
    "df = df.drop([0,1,4])\n",
    "df['YEAR'] = \"2001\"\n",
    "df.to_csv(\"Rainfall_01.csv\", index=False)"
   ]
  },
  {
   "cell_type": "markdown",
   "metadata": {},
   "source": [
    "## 2002"
   ]
  },
  {
   "cell_type": "code",
   "execution_count": null,
   "metadata": {},
   "outputs": [],
   "source": [
    "df = pd.read_excel(\"rainfall_State Wise Timeseries_1626747177031.xls\")\n",
    "df = df.drop(columns={\n",
    "    \"Unnamed: 1\", \"Unnamed: 2\", \"Unnamed: 3\", \"Unnamed: 4\", \"Unnamed: 5\", \"Unnamed: 6\", \"Unnamed: 7\",\n",
    "    \"Unnamed: 8\", \"Unnamed: 9\", \"Unnamed: 10\", \"Unnamed: 11\", \"Unnamed: 12\", \"Unnamed: 13\", \"Unnamed: 14\",\n",
    "    \"Unnamed: 15\", \"Unnamed: 28\", \"Unnamed: 29\", \"Unnamed: 30\", \"Unnamed: 31\",\n",
    "    \"Unnamed: 32\", \"Unnamed: 33\", \"Unnamed: 34\", \"Unnamed: 35\", \"Unnamed: 36\"\n",
    "})\n",
    "df = df.rename(columns={\n",
    "    \"RainFall Report - STATEWISE - (SUM) (IMD GRID) : 200201 - 200212\": \"State\",\n",
    "    \"Unnamed: 16\": \"Jun_Actual(mm)\",\n",
    "    \"Unnamed: 17\": \"Jun_Normal(mm)\",\n",
    "    \"Unnamed: 18\": \"Jun_Dev%\",\n",
    "    \"Unnamed: 19\": \"Jul_Actual(mm)\",\n",
    "    \"Unnamed: 20\": \"Jul_Normal(mm)\",\n",
    "    \"Unnamed: 21\": \"Jul_Dev%\",\n",
    "    \"Unnamed: 22\": \"Aug_Actual(mm)\",\n",
    "    \"Unnamed: 23\": \"Aug_Normal(mm)\",\n",
    "    \"Unnamed: 24\": \"Aug_Dev%\",\n",
    "    \"Unnamed: 25\": \"Sep_Actual(mm)\",\n",
    "    \"Unnamed: 26\": \"Sep_Normal(mm)\",\n",
    "    \"Unnamed: 27\": \"Sep_dev%\",\n",
    "    \"Unnamed: 37\": \"Cumu_Actual(mm)\",\n",
    "    \"Unnamed: 38\": \"Cumu_Normal(mm)\",\n",
    "    \"Unnamed: 39\": \"Cumu_Dev%\"\n",
    "})\n",
    "df = df.drop([0,1,4])\n",
    "df['YEAR'] = \"2002\"\n",
    "df.to_csv(\"Rainfall_02.csv\", index=False)"
   ]
  },
  {
   "cell_type": "markdown",
   "metadata": {},
   "source": [
    "## 2003"
   ]
  },
  {
   "cell_type": "code",
   "execution_count": null,
   "metadata": {},
   "outputs": [],
   "source": [
    "df = pd.read_excel(\"rainfall_State Wise Timeseries_1626747169677.xls\")\n",
    "df = df.drop(columns={\n",
    "    \"Unnamed: 1\", \"Unnamed: 2\", \"Unnamed: 3\", \"Unnamed: 4\", \"Unnamed: 5\", \"Unnamed: 6\", \"Unnamed: 7\",\n",
    "    \"Unnamed: 8\", \"Unnamed: 9\", \"Unnamed: 10\", \"Unnamed: 11\", \"Unnamed: 12\", \"Unnamed: 13\", \"Unnamed: 14\",\n",
    "    \"Unnamed: 15\", \"Unnamed: 28\", \"Unnamed: 29\", \"Unnamed: 30\", \"Unnamed: 31\",\n",
    "    \"Unnamed: 32\", \"Unnamed: 33\", \"Unnamed: 34\", \"Unnamed: 35\", \"Unnamed: 36\"\n",
    "})\n",
    "df = df.rename(columns={\n",
    "    \"RainFall Report - STATEWISE - (SUM) (IMD GRID) : 200301 - 200312\": \"State\",\n",
    "    \"Unnamed: 16\": \"Jun_Actual(mm)\",\n",
    "    \"Unnamed: 17\": \"Jun_Normal(mm)\",\n",
    "    \"Unnamed: 18\": \"Jun_Dev%\",\n",
    "    \"Unnamed: 19\": \"Jul_Actual(mm)\",\n",
    "    \"Unnamed: 20\": \"Jul_Normal(mm)\",\n",
    "    \"Unnamed: 21\": \"Jul_Dev%\",\n",
    "    \"Unnamed: 22\": \"Aug_Actual(mm)\",\n",
    "    \"Unnamed: 23\": \"Aug_Normal(mm)\",\n",
    "    \"Unnamed: 24\": \"Aug_Dev%\",\n",
    "    \"Unnamed: 25\": \"Sep_Actual(mm)\",\n",
    "    \"Unnamed: 26\": \"Sep_Normal(mm)\",\n",
    "    \"Unnamed: 27\": \"Sep_dev%\",\n",
    "    \"Unnamed: 37\": \"Cumu_Actual(mm)\",\n",
    "    \"Unnamed: 38\": \"Cumu_Normal(mm)\",\n",
    "    \"Unnamed: 39\": \"Cumu_Dev%\"\n",
    "})\n",
    "df = df.drop([0,1,4])\n",
    "df['YEAR'] = \"2003\"\n",
    "df.to_csv(\"Rainfall_03.csv\", index=False)"
   ]
  },
  {
   "cell_type": "markdown",
   "metadata": {},
   "source": [
    "## 2004"
   ]
  },
  {
   "cell_type": "code",
   "execution_count": null,
   "metadata": {},
   "outputs": [],
   "source": [
    "df = pd.read_excel(\"rainfall_State Wise Timeseries_1626747159788.xls\")\n",
    "df = df.drop(columns={\n",
    "    \"Unnamed: 1\", \"Unnamed: 2\", \"Unnamed: 3\", \"Unnamed: 4\", \"Unnamed: 5\", \"Unnamed: 6\", \"Unnamed: 7\",\n",
    "    \"Unnamed: 8\", \"Unnamed: 9\", \"Unnamed: 10\", \"Unnamed: 11\", \"Unnamed: 12\", \"Unnamed: 13\", \"Unnamed: 14\",\n",
    "    \"Unnamed: 15\", \"Unnamed: 28\", \"Unnamed: 29\", \"Unnamed: 30\", \"Unnamed: 31\",\n",
    "    \"Unnamed: 32\", \"Unnamed: 33\", \"Unnamed: 34\", \"Unnamed: 35\", \"Unnamed: 36\"\n",
    "})\n",
    "df = df.rename(columns={\n",
    "    \"RainFall Report - STATEWISE - (SUM) (IMD GRID) : 200401 - 200412\": \"State\",\n",
    "    \"Unnamed: 16\": \"Jun_Actual(mm)\",\n",
    "    \"Unnamed: 17\": \"Jun_Normal(mm)\",\n",
    "    \"Unnamed: 18\": \"Jun_Dev%\",\n",
    "    \"Unnamed: 19\": \"Jul_Actual(mm)\",\n",
    "    \"Unnamed: 20\": \"Jul_Normal(mm)\",\n",
    "    \"Unnamed: 21\": \"Jul_Dev%\",\n",
    "    \"Unnamed: 22\": \"Aug_Actual(mm)\",\n",
    "    \"Unnamed: 23\": \"Aug_Normal(mm)\",\n",
    "    \"Unnamed: 24\": \"Aug_Dev%\",\n",
    "    \"Unnamed: 25\": \"Sep_Actual(mm)\",\n",
    "    \"Unnamed: 26\": \"Sep_Normal(mm)\",\n",
    "    \"Unnamed: 27\": \"Sep_dev%\",\n",
    "    \"Unnamed: 37\": \"Cumu_Actual(mm)\",\n",
    "    \"Unnamed: 38\": \"Cumu_Normal(mm)\",\n",
    "    \"Unnamed: 39\": \"Cumu_Dev%\"\n",
    "})\n",
    "df = df.drop([0,1,4])\n",
    "df['YEAR'] = \"2004\"\n",
    "df.to_csv(\"Rainfall_04.csv\", index=False)"
   ]
  },
  {
   "cell_type": "markdown",
   "metadata": {},
   "source": [
    "## 2005"
   ]
  },
  {
   "cell_type": "code",
   "execution_count": null,
   "metadata": {},
   "outputs": [],
   "source": [
    "df = pd.read_excel(\"rainfall_State Wise Timeseries_1626747152755.xls\")\n",
    "df = df.drop(columns={\n",
    "    \"Unnamed: 1\", \"Unnamed: 2\", \"Unnamed: 3\", \"Unnamed: 4\", \"Unnamed: 5\", \"Unnamed: 6\", \"Unnamed: 7\",\n",
    "    \"Unnamed: 8\", \"Unnamed: 9\", \"Unnamed: 10\", \"Unnamed: 11\", \"Unnamed: 12\", \"Unnamed: 13\", \"Unnamed: 14\",\n",
    "    \"Unnamed: 15\", \"Unnamed: 28\", \"Unnamed: 29\", \"Unnamed: 30\", \"Unnamed: 31\",\n",
    "    \"Unnamed: 32\", \"Unnamed: 33\", \"Unnamed: 34\", \"Unnamed: 35\", \"Unnamed: 36\"\n",
    "})\n",
    "df = df.rename(columns={\n",
    "    \"RainFall Report - STATEWISE - (SUM) (IMD GRID) : 200501 - 200512\": \"State\",\n",
    "    \"Unnamed: 16\": \"Jun_Actual(mm)\",\n",
    "    \"Unnamed: 17\": \"Jun_Normal(mm)\",\n",
    "    \"Unnamed: 18\": \"Jun_Dev%\",\n",
    "    \"Unnamed: 19\": \"Jul_Actual(mm)\",\n",
    "    \"Unnamed: 20\": \"Jul_Normal(mm)\",\n",
    "    \"Unnamed: 21\": \"Jul_Dev%\",\n",
    "    \"Unnamed: 22\": \"Aug_Actual(mm)\",\n",
    "    \"Unnamed: 23\": \"Aug_Normal(mm)\",\n",
    "    \"Unnamed: 24\": \"Aug_Dev%\",\n",
    "    \"Unnamed: 25\": \"Sep_Actual(mm)\",\n",
    "    \"Unnamed: 26\": \"Sep_Normal(mm)\",\n",
    "    \"Unnamed: 27\": \"Sep_dev%\",\n",
    "    \"Unnamed: 37\": \"Cumu_Actual(mm)\",\n",
    "    \"Unnamed: 38\": \"Cumu_Normal(mm)\",\n",
    "    \"Unnamed: 39\": \"Cumu_Dev%\"\n",
    "})\n",
    "df = df.drop([0,1,4])\n",
    "df['YEAR'] = \"2005\"\n",
    "df.to_csv(\"Rainfall_05.csv\", index=False)"
   ]
  },
  {
   "cell_type": "markdown",
   "metadata": {},
   "source": [
    "## 2006"
   ]
  },
  {
   "cell_type": "code",
   "execution_count": null,
   "metadata": {},
   "outputs": [],
   "source": [
    "df = pd.read_excel(\"rainfall_State Wise Timeseries_1626747145305.xls\")\n",
    "df = df.drop(columns={\n",
    "    \"Unnamed: 1\", \"Unnamed: 2\", \"Unnamed: 3\", \"Unnamed: 4\", \"Unnamed: 5\", \"Unnamed: 6\", \"Unnamed: 7\",\n",
    "    \"Unnamed: 8\", \"Unnamed: 9\", \"Unnamed: 10\", \"Unnamed: 11\", \"Unnamed: 12\", \"Unnamed: 13\", \"Unnamed: 14\",\n",
    "    \"Unnamed: 15\", \"Unnamed: 28\", \"Unnamed: 29\", \"Unnamed: 30\", \"Unnamed: 31\",\n",
    "    \"Unnamed: 32\", \"Unnamed: 33\", \"Unnamed: 34\", \"Unnamed: 35\", \"Unnamed: 36\"\n",
    "})\n",
    "df = df.rename(columns={\n",
    "    \"RainFall Report - STATEWISE - (SUM) (IMD GRID) : 200601 - 200612\": \"State\",\n",
    "    \"Unnamed: 16\": \"Jun_Actual(mm)\",\n",
    "    \"Unnamed: 17\": \"Jun_Normal(mm)\",\n",
    "    \"Unnamed: 18\": \"Jun_Dev%\",\n",
    "    \"Unnamed: 19\": \"Jul_Actual(mm)\",\n",
    "    \"Unnamed: 20\": \"Jul_Normal(mm)\",\n",
    "    \"Unnamed: 21\": \"Jul_Dev%\",\n",
    "    \"Unnamed: 22\": \"Aug_Actual(mm)\",\n",
    "    \"Unnamed: 23\": \"Aug_Normal(mm)\",\n",
    "    \"Unnamed: 24\": \"Aug_Dev%\",\n",
    "    \"Unnamed: 25\": \"Sep_Actual(mm)\",\n",
    "    \"Unnamed: 26\": \"Sep_Normal(mm)\",\n",
    "    \"Unnamed: 27\": \"Sep_dev%\",\n",
    "    \"Unnamed: 37\": \"Cumu_Actual(mm)\",\n",
    "    \"Unnamed: 38\": \"Cumu_Normal(mm)\",\n",
    "    \"Unnamed: 39\": \"Cumu_Dev%\"\n",
    "})\n",
    "df = df.drop([0,1,4])\n",
    "df['YEAR'] = \"2006\"\n",
    "df.to_csv(\"Rainfall_06.csv\", index=False)"
   ]
  },
  {
   "cell_type": "markdown",
   "metadata": {},
   "source": [
    "## 2007"
   ]
  },
  {
   "cell_type": "code",
   "execution_count": null,
   "metadata": {},
   "outputs": [],
   "source": [
    "df = pd.read_excel(\"rainfall_State Wise Timeseries_1626747137570.xls\")\n",
    "df = df.drop(columns={\n",
    "    \"Unnamed: 1\", \"Unnamed: 2\", \"Unnamed: 3\", \"Unnamed: 4\", \"Unnamed: 5\", \"Unnamed: 6\", \"Unnamed: 7\",\n",
    "    \"Unnamed: 8\", \"Unnamed: 9\", \"Unnamed: 10\", \"Unnamed: 11\", \"Unnamed: 12\", \"Unnamed: 13\", \"Unnamed: 14\",\n",
    "    \"Unnamed: 15\", \"Unnamed: 28\", \"Unnamed: 29\", \"Unnamed: 30\", \"Unnamed: 31\",\n",
    "    \"Unnamed: 32\", \"Unnamed: 33\", \"Unnamed: 34\", \"Unnamed: 35\", \"Unnamed: 36\"\n",
    "})\n",
    "df = df.rename(columns={\n",
    "    \"RainFall Report - STATEWISE - (SUM) (IMD GRID) : 200701 - 200712\": \"State\",\n",
    "    \"Unnamed: 16\": \"Jun_Actual(mm)\",\n",
    "    \"Unnamed: 17\": \"Jun_Normal(mm)\",\n",
    "    \"Unnamed: 18\": \"Jun_Dev%\",\n",
    "    \"Unnamed: 19\": \"Jul_Actual(mm)\",\n",
    "    \"Unnamed: 20\": \"Jul_Normal(mm)\",\n",
    "    \"Unnamed: 21\": \"Jul_Dev%\",\n",
    "    \"Unnamed: 22\": \"Aug_Actual(mm)\",\n",
    "    \"Unnamed: 23\": \"Aug_Normal(mm)\",\n",
    "    \"Unnamed: 24\": \"Aug_Dev%\",\n",
    "    \"Unnamed: 25\": \"Sep_Actual(mm)\",\n",
    "    \"Unnamed: 26\": \"Sep_Normal(mm)\",\n",
    "    \"Unnamed: 27\": \"Sep_dev%\",\n",
    "    \"Unnamed: 37\": \"Cumu_Actual(mm)\",\n",
    "    \"Unnamed: 38\": \"Cumu_Normal(mm)\",\n",
    "    \"Unnamed: 39\": \"Cumu_Dev%\"\n",
    "})\n",
    "df = df.drop([0,1,4])\n",
    "df['YEAR'] = \"2007\"\n",
    "df.to_csv(\"Rainfall_07.csv\", index=False)"
   ]
  },
  {
   "cell_type": "markdown",
   "metadata": {},
   "source": [
    "## 2008"
   ]
  },
  {
   "cell_type": "code",
   "execution_count": null,
   "metadata": {},
   "outputs": [],
   "source": [
    "df = pd.read_excel(\"rainfall_State Wise Timeseries_1626747130748.xls\")\n",
    "df = df.drop(columns={\n",
    "    \"Unnamed: 1\", \"Unnamed: 2\", \"Unnamed: 3\", \"Unnamed: 4\", \"Unnamed: 5\", \"Unnamed: 6\", \"Unnamed: 7\",\n",
    "    \"Unnamed: 8\", \"Unnamed: 9\", \"Unnamed: 10\", \"Unnamed: 11\", \"Unnamed: 12\", \"Unnamed: 13\", \"Unnamed: 14\",\n",
    "    \"Unnamed: 15\", \"Unnamed: 28\", \"Unnamed: 29\", \"Unnamed: 30\", \"Unnamed: 31\",\n",
    "    \"Unnamed: 32\", \"Unnamed: 33\", \"Unnamed: 34\", \"Unnamed: 35\", \"Unnamed: 36\"\n",
    "})\n",
    "df = df.rename(columns={\n",
    "    \"RainFall Report - STATEWISE - (SUM) (IMD GRID) : 200801 - 200812\": \"State\",\n",
    "    \"Unnamed: 16\": \"Jun_Actual(mm)\",\n",
    "    \"Unnamed: 17\": \"Jun_Normal(mm)\",\n",
    "    \"Unnamed: 18\": \"Jun_Dev%\",\n",
    "    \"Unnamed: 19\": \"Jul_Actual(mm)\",\n",
    "    \"Unnamed: 20\": \"Jul_Normal(mm)\",\n",
    "    \"Unnamed: 21\": \"Jul_Dev%\",\n",
    "    \"Unnamed: 22\": \"Aug_Actual(mm)\",\n",
    "    \"Unnamed: 23\": \"Aug_Normal(mm)\",\n",
    "    \"Unnamed: 24\": \"Aug_Dev%\",\n",
    "    \"Unnamed: 25\": \"Sep_Actual(mm)\",\n",
    "    \"Unnamed: 26\": \"Sep_Normal(mm)\",\n",
    "    \"Unnamed: 27\": \"Sep_dev%\",\n",
    "    \"Unnamed: 37\": \"Cumu_Actual(mm)\",\n",
    "    \"Unnamed: 38\": \"Cumu_Normal(mm)\",\n",
    "    \"Unnamed: 39\": \"Cumu_Dev%\"\n",
    "})\n",
    "df = df.drop([0,1,4])\n",
    "df['YEAR'] = \"2008\"\n",
    "df.to_csv(\"Rainfall_08.csv\", index=False)"
   ]
  },
  {
   "cell_type": "markdown",
   "metadata": {},
   "source": [
    "## 2009"
   ]
  },
  {
   "cell_type": "code",
   "execution_count": null,
   "metadata": {},
   "outputs": [],
   "source": [
    "df = pd.read_excel(\"rainfall_State Wise Timeseries_1626747122660.xls\")\n",
    "df = df.drop(columns={\n",
    "    \"Unnamed: 1\", \"Unnamed: 2\", \"Unnamed: 3\", \"Unnamed: 4\", \"Unnamed: 5\", \"Unnamed: 6\", \"Unnamed: 7\",\n",
    "    \"Unnamed: 8\", \"Unnamed: 9\", \"Unnamed: 10\", \"Unnamed: 11\", \"Unnamed: 12\", \"Unnamed: 13\", \"Unnamed: 14\",\n",
    "    \"Unnamed: 15\", \"Unnamed: 28\", \"Unnamed: 29\", \"Unnamed: 30\", \"Unnamed: 31\",\n",
    "    \"Unnamed: 32\", \"Unnamed: 33\", \"Unnamed: 34\", \"Unnamed: 35\", \"Unnamed: 36\"\n",
    "})\n",
    "df = df.rename(columns={\n",
    "    \"RainFall Report - STATEWISE - (SUM) (IMD GRID) : 200901 - 200912\": \"State\",\n",
    "    \"Unnamed: 16\": \"Jun_Actual(mm)\",\n",
    "    \"Unnamed: 17\": \"Jun_Normal(mm)\",\n",
    "    \"Unnamed: 18\": \"Jun_Dev%\",\n",
    "    \"Unnamed: 19\": \"Jul_Actual(mm)\",\n",
    "    \"Unnamed: 20\": \"Jul_Normal(mm)\",\n",
    "    \"Unnamed: 21\": \"Jul_Dev%\",\n",
    "    \"Unnamed: 22\": \"Aug_Actual(mm)\",\n",
    "    \"Unnamed: 23\": \"Aug_Normal(mm)\",\n",
    "    \"Unnamed: 24\": \"Aug_Dev%\",\n",
    "    \"Unnamed: 25\": \"Sep_Actual(mm)\",\n",
    "    \"Unnamed: 26\": \"Sep_Normal(mm)\",\n",
    "    \"Unnamed: 27\": \"Sep_dev%\",\n",
    "    \"Unnamed: 37\": \"Cumu_Actual(mm)\",\n",
    "    \"Unnamed: 38\": \"Cumu_Normal(mm)\",\n",
    "    \"Unnamed: 39\": \"Cumu_Dev%\"\n",
    "})\n",
    "df = df.drop([0,1,4])\n",
    "df['YEAR'] = \"2009\"\n",
    "df.to_csv(\"Rainfall_09.csv\", index=False)"
   ]
  },
  {
   "cell_type": "markdown",
   "metadata": {},
   "source": [
    "## 2010"
   ]
  },
  {
   "cell_type": "code",
   "execution_count": null,
   "metadata": {},
   "outputs": [],
   "source": [
    "df = pd.read_excel(\"rainfall_State Wise Timeseries_1626747109116.xls\")\n",
    "df = df.drop(columns={\n",
    "    \"Unnamed: 1\", \"Unnamed: 2\", \"Unnamed: 3\", \"Unnamed: 4\", \"Unnamed: 5\", \"Unnamed: 6\", \"Unnamed: 7\",\n",
    "    \"Unnamed: 8\", \"Unnamed: 9\", \"Unnamed: 10\", \"Unnamed: 11\", \"Unnamed: 12\", \"Unnamed: 13\", \"Unnamed: 14\",\n",
    "    \"Unnamed: 15\", \"Unnamed: 28\", \"Unnamed: 29\", \"Unnamed: 30\", \"Unnamed: 31\",\n",
    "    \"Unnamed: 32\", \"Unnamed: 33\", \"Unnamed: 34\", \"Unnamed: 35\", \"Unnamed: 36\"\n",
    "})\n",
    "df = df.rename(columns={\n",
    "    \"RainFall Report - STATEWISE - (SUM) (IMD GRID) : 201001 - 201012\": \"State\",\n",
    "    \"Unnamed: 16\": \"Jun_Actual(mm)\",\n",
    "    \"Unnamed: 17\": \"Jun_Normal(mm)\",\n",
    "    \"Unnamed: 18\": \"Jun_Dev%\",\n",
    "    \"Unnamed: 19\": \"Jul_Actual(mm)\",\n",
    "    \"Unnamed: 20\": \"Jul_Normal(mm)\",\n",
    "    \"Unnamed: 21\": \"Jul_Dev%\",\n",
    "    \"Unnamed: 22\": \"Aug_Actual(mm)\",\n",
    "    \"Unnamed: 23\": \"Aug_Normal(mm)\",\n",
    "    \"Unnamed: 24\": \"Aug_Dev%\",\n",
    "    \"Unnamed: 25\": \"Sep_Actual(mm)\",\n",
    "    \"Unnamed: 26\": \"Sep_Normal(mm)\",\n",
    "    \"Unnamed: 27\": \"Sep_dev%\",\n",
    "    \"Unnamed: 37\": \"Cumu_Actual(mm)\",\n",
    "    \"Unnamed: 38\": \"Cumu_Normal(mm)\",\n",
    "    \"Unnamed: 39\": \"Cumu_Dev%\"\n",
    "})\n",
    "df = df.drop([0,1,4])\n",
    "df['YEAR'] = \"2010\"\n",
    "df.to_csv(\"Rainfall_10.csv\", index=False)"
   ]
  },
  {
   "cell_type": "markdown",
   "metadata": {},
   "source": [
    "## 2011"
   ]
  },
  {
   "cell_type": "code",
   "execution_count": null,
   "metadata": {},
   "outputs": [],
   "source": [
    "df = pd.read_excel(\"rainfall_State Wise Timeseries_1626747101353.xls\")\n",
    "df = df.drop(columns={\n",
    "    \"Unnamed: 1\", \"Unnamed: 2\", \"Unnamed: 3\", \"Unnamed: 4\", \"Unnamed: 5\", \"Unnamed: 6\", \"Unnamed: 7\",\n",
    "    \"Unnamed: 8\", \"Unnamed: 9\", \"Unnamed: 10\", \"Unnamed: 11\", \"Unnamed: 12\", \"Unnamed: 13\", \"Unnamed: 14\",\n",
    "    \"Unnamed: 15\", \"Unnamed: 28\", \"Unnamed: 29\", \"Unnamed: 30\", \"Unnamed: 31\",\n",
    "    \"Unnamed: 32\", \"Unnamed: 33\", \"Unnamed: 34\", \"Unnamed: 35\", \"Unnamed: 36\"\n",
    "})\n",
    "df = df.rename(columns={\n",
    "    \"RainFall Report - STATEWISE - (SUM) (IMD GRID) : 201101 - 201112\": \"State\",\n",
    "    \"Unnamed: 16\": \"Jun_Actual(mm)\",\n",
    "    \"Unnamed: 17\": \"Jun_Normal(mm)\",\n",
    "    \"Unnamed: 18\": \"Jun_Dev%\",\n",
    "    \"Unnamed: 19\": \"Jul_Actual(mm)\",\n",
    "    \"Unnamed: 20\": \"Jul_Normal(mm)\",\n",
    "    \"Unnamed: 21\": \"Jul_Dev%\",\n",
    "    \"Unnamed: 22\": \"Aug_Actual(mm)\",\n",
    "    \"Unnamed: 23\": \"Aug_Normal(mm)\",\n",
    "    \"Unnamed: 24\": \"Aug_Dev%\",\n",
    "    \"Unnamed: 25\": \"Sep_Actual(mm)\",\n",
    "    \"Unnamed: 26\": \"Sep_Normal(mm)\",\n",
    "    \"Unnamed: 27\": \"Sep_dev%\",\n",
    "    \"Unnamed: 37\": \"Cumu_Actual(mm)\",\n",
    "    \"Unnamed: 38\": \"Cumu_Normal(mm)\",\n",
    "    \"Unnamed: 39\": \"Cumu_Dev%\"\n",
    "})\n",
    "df = df.drop([0,1,4])\n",
    "df['YEAR'] = \"2011\"\n",
    "df.to_csv(\"Rainfall_11.csv\", index=False)"
   ]
  },
  {
   "cell_type": "markdown",
   "metadata": {},
   "source": [
    "## 2012"
   ]
  },
  {
   "cell_type": "code",
   "execution_count": null,
   "metadata": {},
   "outputs": [],
   "source": [
    "df = pd.read_excel(\"rainfall_State Wise Timeseries_1626747094127.xls\")\n",
    "df = df.drop(columns={\n",
    "    \"Unnamed: 1\", \"Unnamed: 2\", \"Unnamed: 3\", \"Unnamed: 4\", \"Unnamed: 5\", \"Unnamed: 6\", \"Unnamed: 7\",\n",
    "    \"Unnamed: 8\", \"Unnamed: 9\", \"Unnamed: 10\", \"Unnamed: 11\", \"Unnamed: 12\", \"Unnamed: 13\", \"Unnamed: 14\",\n",
    "    \"Unnamed: 15\", \"Unnamed: 28\", \"Unnamed: 29\", \"Unnamed: 30\", \"Unnamed: 31\",\n",
    "    \"Unnamed: 32\", \"Unnamed: 33\", \"Unnamed: 34\", \"Unnamed: 35\", \"Unnamed: 36\"\n",
    "})\n",
    "df = df.rename(columns={\n",
    "    \"RainFall Report - STATEWISE - (SUM) (IMD GRID) : 201201 - 201212\": \"State\",\n",
    "    \"Unnamed: 16\": \"Jun_Actual(mm)\",\n",
    "    \"Unnamed: 17\": \"Jun_Normal(mm)\",\n",
    "    \"Unnamed: 18\": \"Jun_Dev%\",\n",
    "    \"Unnamed: 19\": \"Jul_Actual(mm)\",\n",
    "    \"Unnamed: 20\": \"Jul_Normal(mm)\",\n",
    "    \"Unnamed: 21\": \"Jul_Dev%\",\n",
    "    \"Unnamed: 22\": \"Aug_Actual(mm)\",\n",
    "    \"Unnamed: 23\": \"Aug_Normal(mm)\",\n",
    "    \"Unnamed: 24\": \"Aug_Dev%\",\n",
    "    \"Unnamed: 25\": \"Sep_Actual(mm)\",\n",
    "    \"Unnamed: 26\": \"Sep_Normal(mm)\",\n",
    "    \"Unnamed: 27\": \"Sep_dev%\",\n",
    "    \"Unnamed: 37\": \"Cumu_Actual(mm)\",\n",
    "    \"Unnamed: 38\": \"Cumu_Normal(mm)\",\n",
    "    \"Unnamed: 39\": \"Cumu_Dev%\"\n",
    "})\n",
    "df = df.drop([0,1,4])\n",
    "df['YEAR'] = \"2012\"\n",
    "df.to_csv(\"Rainfall_12.csv\", index=False)"
   ]
  },
  {
   "cell_type": "markdown",
   "metadata": {},
   "source": [
    "## 2013"
   ]
  },
  {
   "cell_type": "code",
   "execution_count": null,
   "metadata": {},
   "outputs": [],
   "source": [
    "df = pd.read_excel(\"rainfall_State Wise Timeseries_1626747086521.xls\")\n",
    "df = df.drop(columns={\n",
    "    \"Unnamed: 1\", \"Unnamed: 2\", \"Unnamed: 3\", \"Unnamed: 4\", \"Unnamed: 5\", \"Unnamed: 6\", \"Unnamed: 7\",\n",
    "    \"Unnamed: 8\", \"Unnamed: 9\", \"Unnamed: 10\", \"Unnamed: 11\", \"Unnamed: 12\", \"Unnamed: 13\", \"Unnamed: 14\",\n",
    "    \"Unnamed: 15\", \"Unnamed: 28\", \"Unnamed: 29\", \"Unnamed: 30\", \"Unnamed: 31\",\n",
    "    \"Unnamed: 32\", \"Unnamed: 33\", \"Unnamed: 34\", \"Unnamed: 35\", \"Unnamed: 36\"\n",
    "})\n",
    "df = df.rename(columns={\n",
    "    \"RainFall Report - STATEWISE - (SUM) (IMD GRID) : 201301 - 201312\": \"State\",\n",
    "    \"Unnamed: 16\": \"Jun_Actual(mm)\",\n",
    "    \"Unnamed: 17\": \"Jun_Normal(mm)\",\n",
    "    \"Unnamed: 18\": \"Jun_Dev%\",\n",
    "    \"Unnamed: 19\": \"Jul_Actual(mm)\",\n",
    "    \"Unnamed: 20\": \"Jul_Normal(mm)\",\n",
    "    \"Unnamed: 21\": \"Jul_Dev%\",\n",
    "    \"Unnamed: 22\": \"Aug_Actual(mm)\",\n",
    "    \"Unnamed: 23\": \"Aug_Normal(mm)\",\n",
    "    \"Unnamed: 24\": \"Aug_Dev%\",\n",
    "    \"Unnamed: 25\": \"Sep_Actual(mm)\",\n",
    "    \"Unnamed: 26\": \"Sep_Normal(mm)\",\n",
    "    \"Unnamed: 27\": \"Sep_dev%\",\n",
    "    \"Unnamed: 37\": \"Cumu_Actual(mm)\",\n",
    "    \"Unnamed: 38\": \"Cumu_Normal(mm)\",\n",
    "    \"Unnamed: 39\": \"Cumu_Dev%\"\n",
    "})\n",
    "df = df.drop([0,1,4])\n",
    "df['YEAR'] = \"2013\"\n",
    "df.to_csv(\"Rainfall_13.csv\", index=False)"
   ]
  },
  {
   "cell_type": "markdown",
   "metadata": {},
   "source": [
    "## 2014"
   ]
  },
  {
   "cell_type": "code",
   "execution_count": null,
   "metadata": {},
   "outputs": [],
   "source": [
    "df = pd.read_excel(\"rainfall_State Wise Timeseries_1626747076988.xls\")\n",
    "df = df.drop(columns={\n",
    "    \"Unnamed: 1\", \"Unnamed: 2\", \"Unnamed: 3\", \"Unnamed: 4\", \"Unnamed: 5\", \"Unnamed: 6\", \"Unnamed: 7\",\n",
    "    \"Unnamed: 8\", \"Unnamed: 9\", \"Unnamed: 10\", \"Unnamed: 11\", \"Unnamed: 12\", \"Unnamed: 13\", \"Unnamed: 14\",\n",
    "    \"Unnamed: 15\", \"Unnamed: 28\", \"Unnamed: 29\", \"Unnamed: 30\", \"Unnamed: 31\",\n",
    "    \"Unnamed: 32\", \"Unnamed: 33\", \"Unnamed: 34\", \"Unnamed: 35\", \"Unnamed: 36\"\n",
    "})\n",
    "df = df.rename(columns={\n",
    "    \"RainFall Report - STATEWISE - (SUM) (IMD GRID) : 201401 - 201412\": \"State\",\n",
    "    \"Unnamed: 16\": \"Jun_Actual(mm)\",\n",
    "    \"Unnamed: 17\": \"Jun_Normal(mm)\",\n",
    "    \"Unnamed: 18\": \"Jun_Dev%\",\n",
    "    \"Unnamed: 19\": \"Jul_Actual(mm)\",\n",
    "    \"Unnamed: 20\": \"Jul_Normal(mm)\",\n",
    "    \"Unnamed: 21\": \"Jul_Dev%\",\n",
    "    \"Unnamed: 22\": \"Aug_Actual(mm)\",\n",
    "    \"Unnamed: 23\": \"Aug_Normal(mm)\",\n",
    "    \"Unnamed: 24\": \"Aug_Dev%\",\n",
    "    \"Unnamed: 25\": \"Sep_Actual(mm)\",\n",
    "    \"Unnamed: 26\": \"Sep_Normal(mm)\",\n",
    "    \"Unnamed: 27\": \"Sep_dev%\",\n",
    "    \"Unnamed: 37\": \"Cumu_Actual(mm)\",\n",
    "    \"Unnamed: 38\": \"Cumu_Normal(mm)\",\n",
    "    \"Unnamed: 39\": \"Cumu_Dev%\"\n",
    "})\n",
    "df = df.drop([0,1,4])\n",
    "df['YEAR'] = \"2014\"\n",
    "df.to_csv(\"Rainfall_14.csv\", index=False)"
   ]
  },
  {
   "cell_type": "markdown",
   "metadata": {},
   "source": [
    "## 2015"
   ]
  },
  {
   "cell_type": "code",
   "execution_count": null,
   "metadata": {},
   "outputs": [],
   "source": [
    "df = pd.read_excel(\"rainfall_State Wise Timeseries_1626747069112.xls\")\n",
    "df = df.drop(columns={\n",
    "    \"Unnamed: 1\", \"Unnamed: 2\", \"Unnamed: 3\", \"Unnamed: 4\", \"Unnamed: 5\", \"Unnamed: 6\", \"Unnamed: 7\",\n",
    "    \"Unnamed: 8\", \"Unnamed: 9\", \"Unnamed: 10\", \"Unnamed: 11\", \"Unnamed: 12\", \"Unnamed: 13\", \"Unnamed: 14\",\n",
    "    \"Unnamed: 15\", \"Unnamed: 28\", \"Unnamed: 29\", \"Unnamed: 30\", \"Unnamed: 31\",\n",
    "    \"Unnamed: 32\", \"Unnamed: 33\", \"Unnamed: 34\", \"Unnamed: 35\", \"Unnamed: 36\"\n",
    "})\n",
    "df = df.rename(columns={\n",
    "    \"RainFall Report - STATEWISE - (SUM) (IMD GRID) : 201501 - 201512\": \"State\",\n",
    "    \"Unnamed: 16\": \"Jun_Actual(mm)\",\n",
    "    \"Unnamed: 17\": \"Jun_Normal(mm)\",\n",
    "    \"Unnamed: 18\": \"Jun_Dev%\",\n",
    "    \"Unnamed: 19\": \"Jul_Actual(mm)\",\n",
    "    \"Unnamed: 20\": \"Jul_Normal(mm)\",\n",
    "    \"Unnamed: 21\": \"Jul_Dev%\",\n",
    "    \"Unnamed: 22\": \"Aug_Actual(mm)\",\n",
    "    \"Unnamed: 23\": \"Aug_Normal(mm)\",\n",
    "    \"Unnamed: 24\": \"Aug_Dev%\",\n",
    "    \"Unnamed: 25\": \"Sep_Actual(mm)\",\n",
    "    \"Unnamed: 26\": \"Sep_Normal(mm)\",\n",
    "    \"Unnamed: 27\": \"Sep_dev%\",\n",
    "    \"Unnamed: 37\": \"Cumu_Actual(mm)\",\n",
    "    \"Unnamed: 38\": \"Cumu_Normal(mm)\",\n",
    "    \"Unnamed: 39\": \"Cumu_Dev%\"\n",
    "})\n",
    "df = df.drop([0,1,4])\n",
    "df['YEAR'] = \"2015\"\n",
    "df.to_csv(\"Rainfall_15.csv\", index=False)"
   ]
  },
  {
   "cell_type": "markdown",
   "metadata": {},
   "source": [
    "## 2016"
   ]
  },
  {
   "cell_type": "code",
   "execution_count": null,
   "metadata": {},
   "outputs": [],
   "source": [
    "df = pd.read_excel(\"rainfall_State Wise Timeseries_1626747060739.xls\")\n",
    "df = df.drop(columns={\n",
    "    \"Unnamed: 1\", \"Unnamed: 2\", \"Unnamed: 3\", \"Unnamed: 4\", \"Unnamed: 5\", \"Unnamed: 6\", \"Unnamed: 7\",\n",
    "    \"Unnamed: 8\", \"Unnamed: 9\", \"Unnamed: 10\", \"Unnamed: 11\", \"Unnamed: 12\", \"Unnamed: 13\", \"Unnamed: 14\",\n",
    "    \"Unnamed: 15\", \"Unnamed: 28\", \"Unnamed: 29\", \"Unnamed: 30\", \"Unnamed: 31\",\n",
    "    \"Unnamed: 32\", \"Unnamed: 33\", \"Unnamed: 34\", \"Unnamed: 35\", \"Unnamed: 36\"\n",
    "})\n",
    "df = df.rename(columns={\n",
    "    \"RainFall Report - STATEWISE - (SUM) (IMD GRID) : 201601 - 201612\": \"State\",\n",
    "    \"Unnamed: 16\": \"Jun_Actual(mm)\",\n",
    "    \"Unnamed: 17\": \"Jun_Normal(mm)\",\n",
    "    \"Unnamed: 18\": \"Jun_Dev%\",\n",
    "    \"Unnamed: 19\": \"Jul_Actual(mm)\",\n",
    "    \"Unnamed: 20\": \"Jul_Normal(mm)\",\n",
    "    \"Unnamed: 21\": \"Jul_Dev%\",\n",
    "    \"Unnamed: 22\": \"Aug_Actual(mm)\",\n",
    "    \"Unnamed: 23\": \"Aug_Normal(mm)\",\n",
    "    \"Unnamed: 24\": \"Aug_Dev%\",\n",
    "    \"Unnamed: 25\": \"Sep_Actual(mm)\",\n",
    "    \"Unnamed: 26\": \"Sep_Normal(mm)\",\n",
    "    \"Unnamed: 27\": \"Sep_dev%\",\n",
    "    \"Unnamed: 37\": \"Cumu_Actual(mm)\",\n",
    "    \"Unnamed: 38\": \"Cumu_Normal(mm)\",\n",
    "    \"Unnamed: 39\": \"Cumu_Dev%\"\n",
    "})\n",
    "df = df.drop([0,1,4])\n",
    "df['YEAR'] = \"2016\"\n",
    "df.to_csv(\"Rainfall_16.csv\", index=False)"
   ]
  },
  {
   "cell_type": "markdown",
   "metadata": {},
   "source": [
    "## 2017"
   ]
  },
  {
   "cell_type": "code",
   "execution_count": null,
   "metadata": {},
   "outputs": [],
   "source": [
    "df = pd.read_excel(\"rainfall_State Wise Timeseries_1626747053189.xls\")\n",
    "df = df.drop(columns={\n",
    "    \"Unnamed: 1\", \"Unnamed: 2\", \"Unnamed: 3\", \"Unnamed: 4\", \"Unnamed: 5\", \"Unnamed: 6\", \"Unnamed: 7\",\n",
    "    \"Unnamed: 8\", \"Unnamed: 9\", \"Unnamed: 10\", \"Unnamed: 11\", \"Unnamed: 12\", \"Unnamed: 13\", \"Unnamed: 14\",\n",
    "    \"Unnamed: 15\", \"Unnamed: 28\", \"Unnamed: 29\", \"Unnamed: 30\", \"Unnamed: 31\",\n",
    "    \"Unnamed: 32\", \"Unnamed: 33\", \"Unnamed: 34\", \"Unnamed: 35\", \"Unnamed: 36\"\n",
    "})\n",
    "df = df.rename(columns={\n",
    "    \"RainFall Report - STATEWISE - (SUM) (IMD GRID) : 201701 - 201712\": \"State\",\n",
    "    \"Unnamed: 16\": \"Jun_Actual(mm)\",\n",
    "    \"Unnamed: 17\": \"Jun_Normal(mm)\",\n",
    "    \"Unnamed: 18\": \"Jun_Dev%\",\n",
    "    \"Unnamed: 19\": \"Jul_Actual(mm)\",\n",
    "    \"Unnamed: 20\": \"Jul_Normal(mm)\",\n",
    "    \"Unnamed: 21\": \"Jul_Dev%\",\n",
    "    \"Unnamed: 22\": \"Aug_Actual(mm)\",\n",
    "    \"Unnamed: 23\": \"Aug_Normal(mm)\",\n",
    "    \"Unnamed: 24\": \"Aug_Dev%\",\n",
    "    \"Unnamed: 25\": \"Sep_Actual(mm)\",\n",
    "    \"Unnamed: 26\": \"Sep_Normal(mm)\",\n",
    "    \"Unnamed: 27\": \"Sep_dev%\",\n",
    "    \"Unnamed: 37\": \"Cumu_Actual(mm)\",\n",
    "    \"Unnamed: 38\": \"Cumu_Normal(mm)\",\n",
    "    \"Unnamed: 39\": \"Cumu_Dev%\"\n",
    "})\n",
    "df = df.drop([0,1,4])\n",
    "df['YEAR'] = \"2017\"\n",
    "df.to_csv(\"Rainfall_17.csv\", index=False)"
   ]
  },
  {
   "cell_type": "markdown",
   "metadata": {},
   "source": [
    "## 2018"
   ]
  },
  {
   "cell_type": "code",
   "execution_count": null,
   "metadata": {},
   "outputs": [],
   "source": [
    "df = pd.read_excel(\"rainfall_State Wise Timeseries_1626747045621.xls\")\n",
    "df = df.drop(columns={\n",
    "    \"Unnamed: 1\", \"Unnamed: 2\", \"Unnamed: 3\", \"Unnamed: 4\", \"Unnamed: 5\", \"Unnamed: 6\", \"Unnamed: 7\",\n",
    "    \"Unnamed: 8\", \"Unnamed: 9\", \"Unnamed: 10\", \"Unnamed: 11\", \"Unnamed: 12\", \"Unnamed: 13\", \"Unnamed: 14\",\n",
    "    \"Unnamed: 15\", \"Unnamed: 28\", \"Unnamed: 29\", \"Unnamed: 30\", \"Unnamed: 31\",\n",
    "    \"Unnamed: 32\", \"Unnamed: 33\", \"Unnamed: 34\", \"Unnamed: 35\", \"Unnamed: 36\"\n",
    "})\n",
    "df = df.rename(columns={\n",
    "    \"RainFall Report - STATEWISE - (SUM) (IMD GRID) : 201801 - 201812\": \"State\",\n",
    "    \"Unnamed: 16\": \"Jun_Actual(mm)\",\n",
    "    \"Unnamed: 17\": \"Jun_Normal(mm)\",\n",
    "    \"Unnamed: 18\": \"Jun_Dev%\",\n",
    "    \"Unnamed: 19\": \"Jul_Actual(mm)\",\n",
    "    \"Unnamed: 20\": \"Jul_Normal(mm)\",\n",
    "    \"Unnamed: 21\": \"Jul_Dev%\",\n",
    "    \"Unnamed: 22\": \"Aug_Actual(mm)\",\n",
    "    \"Unnamed: 23\": \"Aug_Normal(mm)\",\n",
    "    \"Unnamed: 24\": \"Aug_Dev%\",\n",
    "    \"Unnamed: 25\": \"Sep_Actual(mm)\",\n",
    "    \"Unnamed: 26\": \"Sep_Normal(mm)\",\n",
    "    \"Unnamed: 27\": \"Sep_dev%\",\n",
    "    \"Unnamed: 37\": \"Cumu_Actual(mm)\",\n",
    "    \"Unnamed: 38\": \"Cumu_Normal(mm)\",\n",
    "    \"Unnamed: 39\": \"Cumu_Dev%\"\n",
    "})\n",
    "df = df.drop([0,1,4])\n",
    "df['YEAR'] = \"2018\"\n",
    "df.to_csv(\"Rainfall_18.csv\", index=False)"
   ]
  },
  {
   "cell_type": "markdown",
   "metadata": {},
   "source": [
    "## 2019"
   ]
  },
  {
   "cell_type": "code",
   "execution_count": null,
   "metadata": {},
   "outputs": [],
   "source": [
    "df = pd.read_excel(\"rainfall_State Wise Timeseries_1626756278934.xls\")\n",
    "df = df.drop(columns={\n",
    "    \"Unnamed: 1\", \"Unnamed: 2\", \"Unnamed: 3\", \"Unnamed: 4\", \"Unnamed: 5\", \"Unnamed: 6\", \"Unnamed: 7\",\n",
    "    \"Unnamed: 8\", \"Unnamed: 9\", \"Unnamed: 10\", \"Unnamed: 11\", \"Unnamed: 12\", \"Unnamed: 13\", \"Unnamed: 14\",\n",
    "    \"Unnamed: 15\", \"Unnamed: 28\", \"Unnamed: 29\", \"Unnamed: 30\", \"Unnamed: 31\",\n",
    "    \"Unnamed: 32\", \"Unnamed: 33\", \"Unnamed: 34\", \"Unnamed: 35\", \"Unnamed: 36\"\n",
    "})\n",
    "df = df.rename(columns={\n",
    "    \"RainFall Report - STATEWISE - (SUM) (IMD GRID) : 201901 - 201912\": \"State\",\n",
    "    \"Unnamed: 16\": \"Jun_Actual(mm)\",\n",
    "    \"Unnamed: 17\": \"Jun_Normal(mm)\",\n",
    "    \"Unnamed: 18\": \"Jun_Dev%\",\n",
    "    \"Unnamed: 19\": \"Jul_Actual(mm)\",\n",
    "    \"Unnamed: 20\": \"Jul_Normal(mm)\",\n",
    "    \"Unnamed: 21\": \"Jul_Dev%\",\n",
    "    \"Unnamed: 22\": \"Aug_Actual(mm)\",\n",
    "    \"Unnamed: 23\": \"Aug_Normal(mm)\",\n",
    "    \"Unnamed: 24\": \"Aug_Dev%\",\n",
    "    \"Unnamed: 25\": \"Sep_Actual(mm)\",\n",
    "    \"Unnamed: 26\": \"Sep_Normal(mm)\",\n",
    "    \"Unnamed: 27\": \"Sep_dev%\",\n",
    "    \"Unnamed: 37\": \"Cumu_Actual(mm)\",\n",
    "    \"Unnamed: 38\": \"Cumu_Normal(mm)\",\n",
    "    \"Unnamed: 39\": \"Cumu_Dev%\"\n",
    "})\n",
    "df = df.drop([0,1,4])\n",
    "df['YEAR'] = \"2019\"\n",
    "df.to_csv(\"Rainfall_19.csv\", index=False)"
   ]
  },
  {
   "cell_type": "markdown",
   "metadata": {},
   "source": [
    "## 2020"
   ]
  },
  {
   "cell_type": "code",
   "execution_count": null,
   "metadata": {},
   "outputs": [],
   "source": [
    "df = pd.read_excel(\"rainfall_State Wise Timeseries_1626747020756.xls\")\n",
    "df = df.drop(columns={\n",
    "    \"Unnamed: 1\", \"Unnamed: 2\", \"Unnamed: 3\", \"Unnamed: 4\", \"Unnamed: 5\", \"Unnamed: 6\", \"Unnamed: 7\",\n",
    "    \"Unnamed: 8\", \"Unnamed: 9\", \"Unnamed: 10\", \"Unnamed: 11\", \"Unnamed: 12\", \"Unnamed: 13\", \"Unnamed: 14\",\n",
    "    \"Unnamed: 15\", \"Unnamed: 28\", \"Unnamed: 29\", \"Unnamed: 30\", \"Unnamed: 31\",\n",
    "    \"Unnamed: 32\", \"Unnamed: 33\", \"Unnamed: 34\", \"Unnamed: 35\", \"Unnamed: 36\"\n",
    "})\n",
    "df = df.rename(columns={\n",
    "    \"RainFall Report - STATEWISE - (SUM) (IMD GRID) : 202001 - 202012\": \"State\",\n",
    "    \"Unnamed: 16\": \"Jun_Actual(mm)\",\n",
    "    \"Unnamed: 17\": \"Jun_Normal(mm)\",\n",
    "    \"Unnamed: 18\": \"Jun_Dev%\",\n",
    "    \"Unnamed: 19\": \"Jul_Actual(mm)\",\n",
    "    \"Unnamed: 20\": \"Jul_Normal(mm)\",\n",
    "    \"Unnamed: 21\": \"Jul_Dev%\",\n",
    "    \"Unnamed: 22\": \"Aug_Actual(mm)\",\n",
    "    \"Unnamed: 23\": \"Aug_Normal(mm)\",\n",
    "    \"Unnamed: 24\": \"Aug_Dev%\",\n",
    "    \"Unnamed: 25\": \"Sep_Actual(mm)\",\n",
    "    \"Unnamed: 26\": \"Sep_Normal(mm)\",\n",
    "    \"Unnamed: 27\": \"Sep_dev%\",\n",
    "    \"Unnamed: 37\": \"Cumu_Actual(mm)\",\n",
    "    \"Unnamed: 38\": \"Cumu_Normal(mm)\",\n",
    "    \"Unnamed: 39\": \"Cumu_Dev%\"\n",
    "})\n",
    "df = df.drop([0,1,4])\n",
    "df['YEAR'] = \"2020\"\n",
    "df.to_csv(\"Rainfall_20.csv\", index=False)"
   ]
  },
  {
   "cell_type": "markdown",
   "metadata": {},
   "source": [
    "## Merging CSVs"
   ]
  },
  {
   "cell_type": "code",
   "execution_count": null,
   "metadata": {},
   "outputs": [],
   "source": [
    "csv_file_list = [\"Rainfall_00.csv\", \"Rainfall_01.csv\", \"Rainfall_02.csv\", \"Rainfall_03.csv\", \"Rainfall_04.csv\",\n",
    "                \"Rainfall_05.csv\", \"Rainfall_06.csv\", \"Rainfall_07.csv\", \"Rainfall_08.csv\", \"Rainfall_09.csv\",\n",
    "                \"Rainfall_10.csv\", \"Rainfall_11.csv\", \"Rainfall_12.csv\", \"Rainfall_13.csv\", \"Rainfall_14.csv\",\n",
    "                \"Rainfall_15.csv\", \"Rainfall_16.csv\", \"Rainfall_17.csv\", \"Rainfall_18.csv\", \"Rainfall_19.csv\",\n",
    "                \"Rainfall_20.csv\"]\n",
    "\n",
    "list_of_dataframes = []\n",
    "for filename in csv_file_list:\n",
    "    list_of_dataframes.append(pd.read_csv(filename))\n",
    "\n",
    "df = pd.concat(list_of_dataframes)"
   ]
  },
  {
   "cell_type": "markdown",
   "metadata": {},
   "source": [
    "#### Making Monsoon specific Column"
   ]
  },
  {
   "cell_type": "code",
   "execution_count": null,
   "metadata": {},
   "outputs": [],
   "source": [
    "df['Monsoon_Actual(mm)'] = df['Jun_Actual(mm)'] + df['Jul_Actual(mm)'] + df['Aug_Actual(mm)'] + df['Sep_Actual(mm)']\n",
    "df['Monsoon_Normal(mm)'] = df['Jun_Normal(mm)'] + df['Jul_Normal(mm)'] + df['Aug_Normal(mm)'] + df['Sep_Normal(mm)']"
   ]
  },
  {
   "cell_type": "code",
   "execution_count": null,
   "metadata": {},
   "outputs": [],
   "source": [
    "df['Monsoon_Dev%'] = ((df['Monsoon_Actual(mm)'] - df['Monsoon_Normal(mm)'])/df['Monsoon_Normal(mm)']) * 100"
   ]
  },
  {
   "cell_type": "markdown",
   "metadata": {},
   "source": [
    "## Cleaning to get Haryana Monsoon Data"
   ]
  },
  {
   "cell_type": "code",
   "execution_count": null,
   "metadata": {},
   "outputs": [],
   "source": [
    "dfHR = df[df['State'] == \"HARYANA\"]"
   ]
  },
  {
   "cell_type": "code",
   "execution_count": null,
   "metadata": {},
   "outputs": [],
   "source": [
    "dfHR = dfHR[['YEAR', 'Monsoon_Actual(mm)', 'Monsoon_Normal(mm)', 'Monsoon_Dev%',\n",
    "           'Cumu_Actual(mm)', 'Cumu_Normal(mm)', 'Cumu_Dev%']]"
   ]
  },
  {
   "cell_type": "code",
   "execution_count": null,
   "metadata": {},
   "outputs": [],
   "source": [
    "dfHR['Monsoon_Share_Actual'] = round(dfHR['Monsoon_Actual(mm)'] / dfHR['Cumu_Actual(mm)'] * 100)\n",
    "dfHR['Monsoon_Share_Normal'] = round(dfHR['Monsoon_Normal(mm)'] / dfHR['Cumu_Normal(mm)'] * 100)"
   ]
  },
  {
   "cell_type": "markdown",
   "metadata": {},
   "source": [
    "Steps commented out below this done to get data to copy paste to make graphics."
   ]
  },
  {
   "cell_type": "code",
   "execution_count": null,
   "metadata": {},
   "outputs": [],
   "source": [
    "# dfHR = dfHR.set_index('YEAR')"
   ]
  },
  {
   "cell_type": "code",
   "execution_count": null,
   "metadata": {},
   "outputs": [],
   "source": [
    "# dfHR = dfHR.transpose()"
   ]
  },
  {
   "cell_type": "code",
   "execution_count": null,
   "metadata": {},
   "outputs": [],
   "source": [
    "# dfHR = dfHR.round(2)"
   ]
  },
  {
   "cell_type": "code",
   "execution_count": null,
   "metadata": {},
   "outputs": [],
   "source": [
    "# dfHR.drop(['Monsoon_Dev%', 'Cumu_Actual(mm)', 'Cumu_Normal(mm)', 'Cumu_Dev%', 'Monsoon_Share_Actual', 'Monsoon_Share_Normal'])"
   ]
  },
  {
   "cell_type": "code",
   "execution_count": null,
   "metadata": {},
   "outputs": [],
   "source": [
    "dfHR = dfHR.reset_index()\n",
    "dfHR = dfHR.drop(columns={\"index\"})"
   ]
  },
  {
   "cell_type": "code",
   "execution_count": null,
   "metadata": {},
   "outputs": [],
   "source": [
    "# dfHR.drop(columns={'Monsoon_Actual(mm)', 'Monsoon_Normal(mm)', 'Cumu_Actual(mm)', 'Cumu_Normal(mm)', 'Cumu_Dev%', 'Monsoon_Share_Actual', 'Monsoon_Share_Normal'})"
   ]
  },
  {
   "cell_type": "markdown",
   "metadata": {},
   "source": [
    "## Cleaning to get Punjab Monsoon Data"
   ]
  },
  {
   "cell_type": "code",
   "execution_count": null,
   "metadata": {},
   "outputs": [],
   "source": [
    "dfPN = df[df['State'] == \"PUNJAB\"]"
   ]
  },
  {
   "cell_type": "code",
   "execution_count": null,
   "metadata": {},
   "outputs": [],
   "source": [
    "dfPN = dfPN[['YEAR', 'Monsoon_Actual(mm)', 'Monsoon_Normal(mm)', 'Monsoon_Dev%',\n",
    "           'Cumu_Actual(mm)', 'Cumu_Normal(mm)', 'Cumu_Dev%']]"
   ]
  },
  {
   "cell_type": "code",
   "execution_count": null,
   "metadata": {},
   "outputs": [],
   "source": [
    "dfPN['Monsoon_Share_Actual'] = round(dfPN['Monsoon_Actual(mm)'] / dfPN['Cumu_Actual(mm)'] * 100)\n",
    "dfPN['Monsoon_Share_Normal'] = round(dfPN['Monsoon_Normal(mm)'] / dfPN['Cumu_Normal(mm)'] * 100)"
   ]
  },
  {
   "cell_type": "code",
   "execution_count": null,
   "metadata": {},
   "outputs": [],
   "source": [
    "dfPN = dfPN.reset_index()\n",
    "dfPN = dfPN.drop(columns={\"index\"})"
   ]
  },
  {
   "cell_type": "code",
   "execution_count": null,
   "metadata": {},
   "outputs": [],
   "source": [
    "# dfPN.drop(columns={'Monsoon_Actual(mm)', 'Monsoon_Normal(mm)', 'Cumu_Actual(mm)', 'Cumu_Normal(mm)', 'Cumu_Dev%', 'Monsoon_Share_Actual', 'Monsoon_Share_Normal'})"
   ]
  },
  {
   "cell_type": "code",
   "execution_count": null,
   "metadata": {},
   "outputs": [],
   "source": []
  },
  {
   "cell_type": "code",
   "execution_count": null,
   "metadata": {},
   "outputs": [],
   "source": []
  }
 ],
 "metadata": {
  "kernelspec": {
   "display_name": "Python 3",
   "language": "python",
   "name": "python3"
  },
  "language_info": {
   "codemirror_mode": {
    "name": "ipython",
    "version": 3
   },
   "file_extension": ".py",
   "mimetype": "text/x-python",
   "name": "python",
   "nbconvert_exporter": "python",
   "pygments_lexer": "ipython3",
   "version": "3.7.1"
  }
 },
 "nbformat": 4,
 "nbformat_minor": 4
}
